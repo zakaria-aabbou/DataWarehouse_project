{
 "cells": [
  {
   "cell_type": "markdown",
   "metadata": {},
   "source": [
    "<h1 style=\"text-align:center;font-size: 4em\"> Préparation des données </h1>"
   ]
  },
  {
   "cell_type": "markdown",
   "metadata": {},
   "source": [
    "Le but de cette étude est de proposer un modèle de prédiction de la réadmission non planifiée à 30 jours chez les patients diabétiques dans les hôpitaux américains en utilisant les données générées par le Data Warehouse. L’analyse sera basée sur des facteurs de risque tels que les données démographiques du patient, les détails d’admission, le diagnostic et les données médicales. Dans un sens plus large, le but de l'étude est de permettre aux centres de santé de mieux anticiper et traiter les réadmissions non planifiées tout en améliorant la qualité de leurs soins et leur rentabilité."
   ]
  },
  {
   "cell_type": "markdown",
   "metadata": {},
   "source": [
    "### Importer des bibliothèques"
   ]
  },
  {
   "cell_type": "code",
   "execution_count": 1,
   "metadata": {},
   "outputs": [],
   "source": [
    "import pandas as pd\n",
    "import numpy as np\n",
    "import matplotlib.pyplot as plt\n",
    "import seaborn as sns\n",
    "import scipy.stats as stats\n",
    "import os\n",
    "import warnings\n",
    "warnings.filterwarnings(\"ignore\")\n",
    "\n",
    "import statsmodels.api as sm\n",
    "from statsmodels.stats.anova import anova_lm\n",
    "import scipy.stats as stats\n",
    "import matplotlib.pyplot as plt\n",
    "from sklearn.preprocessing import StandardScaler, PowerTransformer, LabelEncoder, OneHotEncoder, MinMaxScaler\n",
    "pd.set_option('display.max_columns', None)\n",
    "pd.set_option('display.max_rows', None)"
   ]
  },
  {
   "cell_type": "markdown",
   "metadata": {},
   "source": [
    "### Importer le fichier CSV extrait de DWH"
   ]
  },
  {
   "cell_type": "code",
   "execution_count": 2,
   "metadata": {},
   "outputs": [
    {
     "data": {
      "text/html": [
       "<div>\n",
       "<style scoped>\n",
       "    .dataframe tbody tr th:only-of-type {\n",
       "        vertical-align: middle;\n",
       "    }\n",
       "\n",
       "    .dataframe tbody tr th {\n",
       "        vertical-align: top;\n",
       "    }\n",
       "\n",
       "    .dataframe thead th {\n",
       "        text-align: right;\n",
       "    }\n",
       "</style>\n",
       "<table border=\"1\" class=\"dataframe\">\n",
       "  <thead>\n",
       "    <tr style=\"text-align: right;\">\n",
       "      <th></th>\n",
       "      <th>RACE</th>\n",
       "      <th>GENDER</th>\n",
       "      <th>AGE_INT</th>\n",
       "      <th>ADMISSION_TYPE</th>\n",
       "      <th>DISCHARGE_DISPOSITION</th>\n",
       "      <th>ADMISSION_SOURCE</th>\n",
       "      <th>TIME_IN_HOSPITAL</th>\n",
       "      <th>PAYER_CODE</th>\n",
       "      <th>MEDICAL_SPECIALTY</th>\n",
       "      <th>NUM_LAB_PROCEDURES</th>\n",
       "      <th>NUM_PROCEDURES</th>\n",
       "      <th>NUM_MEDICATIONS</th>\n",
       "      <th>NUMBER_OUTPATIENT</th>\n",
       "      <th>NUMBER_EMERGENCY</th>\n",
       "      <th>NUMBER_INPATIENT</th>\n",
       "      <th>DIAG_1</th>\n",
       "      <th>DIAG_2</th>\n",
       "      <th>DIAG_3</th>\n",
       "      <th>NUMBER_DIAGNOSES</th>\n",
       "      <th>MAX_GLU_SERUM</th>\n",
       "      <th>A1CRESULT</th>\n",
       "      <th>METFORMIN</th>\n",
       "      <th>REPAGLINIDE</th>\n",
       "      <th>NATEGLINIDE</th>\n",
       "      <th>CHLORPROPAMIDE</th>\n",
       "      <th>GLIMEPIRIDE</th>\n",
       "      <th>ACETOHEXAMIDE</th>\n",
       "      <th>GLIPIZIDE</th>\n",
       "      <th>GLYBURIDE</th>\n",
       "      <th>TOLBUTAMIDE</th>\n",
       "      <th>PIOGLITAZONE</th>\n",
       "      <th>ROSIGLITAZONE</th>\n",
       "      <th>ACARBOSE</th>\n",
       "      <th>MIGLITOL</th>\n",
       "      <th>TROGLITAZONE</th>\n",
       "      <th>TOLAZAMIDE</th>\n",
       "      <th>EXAMIDE</th>\n",
       "      <th>CITOGLIPTON</th>\n",
       "      <th>INSULIN</th>\n",
       "      <th>GLYBURIDE_METFORMIN</th>\n",
       "      <th>GLIPIZIDE_METFORMIN</th>\n",
       "      <th>GLIMEPIRIDE_PIOGLITAZONE</th>\n",
       "      <th>METFORMIN_ROSIGLITAZONE</th>\n",
       "      <th>METFORMIN_PIOGLITAZONE</th>\n",
       "      <th>CHANGE</th>\n",
       "      <th>DIABETESMED</th>\n",
       "      <th>READMITTED</th>\n",
       "    </tr>\n",
       "  </thead>\n",
       "  <tbody>\n",
       "    <tr>\n",
       "      <td>0</td>\n",
       "      <td>Caucasian</td>\n",
       "      <td>Female</td>\n",
       "      <td>65</td>\n",
       "      <td>Urgent</td>\n",
       "      <td>Discharged to home</td>\n",
       "      <td>Physician Referral</td>\n",
       "      <td>3</td>\n",
       "      <td>MC</td>\n",
       "      <td>Nephrology</td>\n",
       "      <td>59</td>\n",
       "      <td>3</td>\n",
       "      <td>11</td>\n",
       "      <td>0</td>\n",
       "      <td>0</td>\n",
       "      <td>0</td>\n",
       "      <td>SUPPLEMENTARY CLASSIFICATION OF FACTORS INFLUE...</td>\n",
       "      <td>403</td>\n",
       "      <td>599</td>\n",
       "      <td>6</td>\n",
       "      <td>None</td>\n",
       "      <td>None</td>\n",
       "      <td>No</td>\n",
       "      <td>No</td>\n",
       "      <td>No</td>\n",
       "      <td>No</td>\n",
       "      <td>No</td>\n",
       "      <td>No</td>\n",
       "      <td>No</td>\n",
       "      <td>No</td>\n",
       "      <td>No</td>\n",
       "      <td>No</td>\n",
       "      <td>No</td>\n",
       "      <td>No</td>\n",
       "      <td>No</td>\n",
       "      <td>No</td>\n",
       "      <td>No</td>\n",
       "      <td>No</td>\n",
       "      <td>No</td>\n",
       "      <td>Steady</td>\n",
       "      <td>No</td>\n",
       "      <td>No</td>\n",
       "      <td>No</td>\n",
       "      <td>No</td>\n",
       "      <td>No</td>\n",
       "      <td>No</td>\n",
       "      <td>Yes</td>\n",
       "      <td>NO</td>\n",
       "    </tr>\n",
       "    <tr>\n",
       "      <td>1</td>\n",
       "      <td>Caucasian</td>\n",
       "      <td>Female</td>\n",
       "      <td>75</td>\n",
       "      <td>Emergency</td>\n",
       "      <td>Discharged/transferred to another rehab fac in...</td>\n",
       "      <td>Emergency Room</td>\n",
       "      <td>7</td>\n",
       "      <td>MC</td>\n",
       "      <td>Orthopedics-Reconstructive</td>\n",
       "      <td>58</td>\n",
       "      <td>2</td>\n",
       "      <td>15</td>\n",
       "      <td>0</td>\n",
       "      <td>0</td>\n",
       "      <td>0</td>\n",
       "      <td>821</td>\n",
       "      <td>276</td>\n",
       "      <td>285</td>\n",
       "      <td>9</td>\n",
       "      <td>None</td>\n",
       "      <td>None</td>\n",
       "      <td>No</td>\n",
       "      <td>No</td>\n",
       "      <td>No</td>\n",
       "      <td>No</td>\n",
       "      <td>No</td>\n",
       "      <td>No</td>\n",
       "      <td>No</td>\n",
       "      <td>No</td>\n",
       "      <td>No</td>\n",
       "      <td>Up</td>\n",
       "      <td>No</td>\n",
       "      <td>No</td>\n",
       "      <td>No</td>\n",
       "      <td>No</td>\n",
       "      <td>No</td>\n",
       "      <td>No</td>\n",
       "      <td>No</td>\n",
       "      <td>Steady</td>\n",
       "      <td>No</td>\n",
       "      <td>No</td>\n",
       "      <td>No</td>\n",
       "      <td>No</td>\n",
       "      <td>No</td>\n",
       "      <td>Ch</td>\n",
       "      <td>Yes</td>\n",
       "      <td>NO</td>\n",
       "    </tr>\n",
       "    <tr>\n",
       "      <td>2</td>\n",
       "      <td>Caucasian</td>\n",
       "      <td>Female</td>\n",
       "      <td>95</td>\n",
       "      <td>Emergency</td>\n",
       "      <td>Discharged to home</td>\n",
       "      <td>Emergency Room</td>\n",
       "      <td>4</td>\n",
       "      <td>MC</td>\n",
       "      <td>Emergency/Trauma</td>\n",
       "      <td>56</td>\n",
       "      <td>1</td>\n",
       "      <td>9</td>\n",
       "      <td>0</td>\n",
       "      <td>0</td>\n",
       "      <td>0</td>\n",
       "      <td>532</td>\n",
       "      <td>428</td>\n",
       "      <td>535</td>\n",
       "      <td>6</td>\n",
       "      <td>None</td>\n",
       "      <td>None</td>\n",
       "      <td>No</td>\n",
       "      <td>No</td>\n",
       "      <td>No</td>\n",
       "      <td>No</td>\n",
       "      <td>Steady</td>\n",
       "      <td>No</td>\n",
       "      <td>No</td>\n",
       "      <td>No</td>\n",
       "      <td>No</td>\n",
       "      <td>No</td>\n",
       "      <td>No</td>\n",
       "      <td>No</td>\n",
       "      <td>No</td>\n",
       "      <td>No</td>\n",
       "      <td>No</td>\n",
       "      <td>No</td>\n",
       "      <td>No</td>\n",
       "      <td>No</td>\n",
       "      <td>No</td>\n",
       "      <td>No</td>\n",
       "      <td>No</td>\n",
       "      <td>No</td>\n",
       "      <td>No</td>\n",
       "      <td>No</td>\n",
       "      <td>Yes</td>\n",
       "      <td>NO</td>\n",
       "    </tr>\n",
       "    <tr>\n",
       "      <td>3</td>\n",
       "      <td>Caucasian</td>\n",
       "      <td>Male</td>\n",
       "      <td>75</td>\n",
       "      <td>Emergency</td>\n",
       "      <td>Discharged/transferred to another short term h...</td>\n",
       "      <td>Emergency Room</td>\n",
       "      <td>10</td>\n",
       "      <td>MC</td>\n",
       "      <td>InternalMedicine</td>\n",
       "      <td>68</td>\n",
       "      <td>1</td>\n",
       "      <td>18</td>\n",
       "      <td>0</td>\n",
       "      <td>0</td>\n",
       "      <td>0</td>\n",
       "      <td>682</td>\n",
       "      <td>427</td>\n",
       "      <td>276</td>\n",
       "      <td>6</td>\n",
       "      <td>None</td>\n",
       "      <td>None</td>\n",
       "      <td>Steady</td>\n",
       "      <td>No</td>\n",
       "      <td>No</td>\n",
       "      <td>No</td>\n",
       "      <td>No</td>\n",
       "      <td>No</td>\n",
       "      <td>No</td>\n",
       "      <td>No</td>\n",
       "      <td>No</td>\n",
       "      <td>No</td>\n",
       "      <td>No</td>\n",
       "      <td>No</td>\n",
       "      <td>No</td>\n",
       "      <td>No</td>\n",
       "      <td>No</td>\n",
       "      <td>No</td>\n",
       "      <td>No</td>\n",
       "      <td>Steady</td>\n",
       "      <td>No</td>\n",
       "      <td>No</td>\n",
       "      <td>No</td>\n",
       "      <td>No</td>\n",
       "      <td>No</td>\n",
       "      <td>Ch</td>\n",
       "      <td>Yes</td>\n",
       "      <td>NO</td>\n",
       "    </tr>\n",
       "    <tr>\n",
       "      <td>4</td>\n",
       "      <td>Caucasian</td>\n",
       "      <td>Male</td>\n",
       "      <td>55</td>\n",
       "      <td>Emergency</td>\n",
       "      <td>Left AMA</td>\n",
       "      <td>Transfer from another health care facility</td>\n",
       "      <td>6</td>\n",
       "      <td>MC</td>\n",
       "      <td>Nephrology</td>\n",
       "      <td>52</td>\n",
       "      <td>3</td>\n",
       "      <td>17</td>\n",
       "      <td>0</td>\n",
       "      <td>0</td>\n",
       "      <td>0</td>\n",
       "      <td>578</td>\n",
       "      <td>250.41</td>\n",
       "      <td>403</td>\n",
       "      <td>5</td>\n",
       "      <td>None</td>\n",
       "      <td>None</td>\n",
       "      <td>No</td>\n",
       "      <td>No</td>\n",
       "      <td>No</td>\n",
       "      <td>No</td>\n",
       "      <td>No</td>\n",
       "      <td>No</td>\n",
       "      <td>No</td>\n",
       "      <td>No</td>\n",
       "      <td>No</td>\n",
       "      <td>No</td>\n",
       "      <td>No</td>\n",
       "      <td>No</td>\n",
       "      <td>No</td>\n",
       "      <td>No</td>\n",
       "      <td>No</td>\n",
       "      <td>No</td>\n",
       "      <td>No</td>\n",
       "      <td>Steady</td>\n",
       "      <td>No</td>\n",
       "      <td>No</td>\n",
       "      <td>No</td>\n",
       "      <td>No</td>\n",
       "      <td>No</td>\n",
       "      <td>No</td>\n",
       "      <td>Yes</td>\n",
       "      <td>&lt;30</td>\n",
       "    </tr>\n",
       "  </tbody>\n",
       "</table>\n",
       "</div>"
      ],
      "text/plain": [
       "        RACE  GENDER  AGE_INT ADMISSION_TYPE  \\\n",
       "0  Caucasian  Female       65         Urgent   \n",
       "1  Caucasian  Female       75      Emergency   \n",
       "2  Caucasian  Female       95      Emergency   \n",
       "3  Caucasian    Male       75      Emergency   \n",
       "4  Caucasian    Male       55      Emergency   \n",
       "\n",
       "                               DISCHARGE_DISPOSITION  \\\n",
       "0                                 Discharged to home   \n",
       "1  Discharged/transferred to another rehab fac in...   \n",
       "2                                 Discharged to home   \n",
       "3  Discharged/transferred to another short term h...   \n",
       "4                                           Left AMA   \n",
       "\n",
       "                             ADMISSION_SOURCE  TIME_IN_HOSPITAL PAYER_CODE  \\\n",
       "0                          Physician Referral                 3         MC   \n",
       "1                              Emergency Room                 7         MC   \n",
       "2                              Emergency Room                 4         MC   \n",
       "3                              Emergency Room                10         MC   \n",
       "4  Transfer from another health care facility                 6         MC   \n",
       "\n",
       "            MEDICAL_SPECIALTY  NUM_LAB_PROCEDURES  NUM_PROCEDURES  \\\n",
       "0                  Nephrology                  59               3   \n",
       "1  Orthopedics-Reconstructive                  58               2   \n",
       "2            Emergency/Trauma                  56               1   \n",
       "3            InternalMedicine                  68               1   \n",
       "4                  Nephrology                  52               3   \n",
       "\n",
       "   NUM_MEDICATIONS  NUMBER_OUTPATIENT  NUMBER_EMERGENCY  NUMBER_INPATIENT  \\\n",
       "0               11                  0                 0                 0   \n",
       "1               15                  0                 0                 0   \n",
       "2                9                  0                 0                 0   \n",
       "3               18                  0                 0                 0   \n",
       "4               17                  0                 0                 0   \n",
       "\n",
       "                                              DIAG_1  DIAG_2 DIAG_3  \\\n",
       "0  SUPPLEMENTARY CLASSIFICATION OF FACTORS INFLUE...     403    599   \n",
       "1                                                821     276    285   \n",
       "2                                                532     428    535   \n",
       "3                                                682     427    276   \n",
       "4                                                578  250.41    403   \n",
       "\n",
       "   NUMBER_DIAGNOSES MAX_GLU_SERUM A1CRESULT METFORMIN REPAGLINIDE NATEGLINIDE  \\\n",
       "0                 6          None      None        No          No          No   \n",
       "1                 9          None      None        No          No          No   \n",
       "2                 6          None      None        No          No          No   \n",
       "3                 6          None      None    Steady          No          No   \n",
       "4                 5          None      None        No          No          No   \n",
       "\n",
       "  CHLORPROPAMIDE GLIMEPIRIDE ACETOHEXAMIDE GLIPIZIDE GLYBURIDE TOLBUTAMIDE  \\\n",
       "0             No          No            No        No        No          No   \n",
       "1             No          No            No        No        No          No   \n",
       "2             No      Steady            No        No        No          No   \n",
       "3             No          No            No        No        No          No   \n",
       "4             No          No            No        No        No          No   \n",
       "\n",
       "  PIOGLITAZONE ROSIGLITAZONE ACARBOSE MIGLITOL TROGLITAZONE TOLAZAMIDE  \\\n",
       "0           No            No       No       No           No         No   \n",
       "1           Up            No       No       No           No         No   \n",
       "2           No            No       No       No           No         No   \n",
       "3           No            No       No       No           No         No   \n",
       "4           No            No       No       No           No         No   \n",
       "\n",
       "  EXAMIDE CITOGLIPTON INSULIN GLYBURIDE_METFORMIN GLIPIZIDE_METFORMIN  \\\n",
       "0      No          No  Steady                  No                  No   \n",
       "1      No          No  Steady                  No                  No   \n",
       "2      No          No      No                  No                  No   \n",
       "3      No          No  Steady                  No                  No   \n",
       "4      No          No  Steady                  No                  No   \n",
       "\n",
       "  GLIMEPIRIDE_PIOGLITAZONE METFORMIN_ROSIGLITAZONE METFORMIN_PIOGLITAZONE  \\\n",
       "0                       No                      No                     No   \n",
       "1                       No                      No                     No   \n",
       "2                       No                      No                     No   \n",
       "3                       No                      No                     No   \n",
       "4                       No                      No                     No   \n",
       "\n",
       "  CHANGE DIABETESMED READMITTED  \n",
       "0     No         Yes         NO  \n",
       "1     Ch         Yes         NO  \n",
       "2     No         Yes         NO  \n",
       "3     Ch         Yes         NO  \n",
       "4     No         Yes        <30  "
      ]
     },
     "execution_count": 2,
     "metadata": {},
     "output_type": "execute_result"
    }
   ],
   "source": [
    "df2 = pd.read_csv('CSV_Files/out.csv')\n",
    "df2.head()"
   ]
  },
  {
   "cell_type": "code",
   "execution_count": 3,
   "metadata": {},
   "outputs": [
    {
     "data": {
      "text/plain": [
       "Index(['RACE', 'GENDER', 'AGE_INT', 'ADMISSION_TYPE', 'DISCHARGE_DISPOSITION',\n",
       "       'ADMISSION_SOURCE', 'TIME_IN_HOSPITAL', 'PAYER_CODE',\n",
       "       'MEDICAL_SPECIALTY', 'NUM_LAB_PROCEDURES', 'NUM_PROCEDURES',\n",
       "       'NUM_MEDICATIONS', 'NUMBER_OUTPATIENT', 'NUMBER_EMERGENCY',\n",
       "       'NUMBER_INPATIENT', 'DIAG_1', 'DIAG_2', 'DIAG_3', 'NUMBER_DIAGNOSES',\n",
       "       'MAX_GLU_SERUM', 'A1CRESULT', 'METFORMIN', 'REPAGLINIDE', 'NATEGLINIDE',\n",
       "       'CHLORPROPAMIDE', 'GLIMEPIRIDE', 'ACETOHEXAMIDE', 'GLIPIZIDE',\n",
       "       'GLYBURIDE', 'TOLBUTAMIDE', 'PIOGLITAZONE', 'ROSIGLITAZONE', 'ACARBOSE',\n",
       "       'MIGLITOL', 'TROGLITAZONE', 'TOLAZAMIDE', 'EXAMIDE', 'CITOGLIPTON',\n",
       "       'INSULIN', 'GLYBURIDE_METFORMIN', 'GLIPIZIDE_METFORMIN',\n",
       "       'GLIMEPIRIDE_PIOGLITAZONE', 'METFORMIN_ROSIGLITAZONE',\n",
       "       'METFORMIN_PIOGLITAZONE', 'CHANGE', 'DIABETESMED', 'READMITTED'],\n",
       "      dtype='object')"
      ]
     },
     "execution_count": 3,
     "metadata": {},
     "output_type": "execute_result"
    }
   ],
   "source": [
    "df2.columns"
   ]
  },
  {
   "cell_type": "markdown",
   "metadata": {},
   "source": [
    "### Exploration et nettoyage des données pour appliquer les modèles de machine learning\n",
    "On va effectuer des tâches supplémentaire de nettoyage des données telles que la suppression de mauvaises données, le traitement des valeurs manquantes..."
   ]
  },
  {
   "cell_type": "code",
   "execution_count": 4,
   "metadata": {},
   "outputs": [
    {
     "data": {
      "text/plain": [
       "(26755, 47)"
      ]
     },
     "execution_count": 4,
     "metadata": {},
     "output_type": "execute_result"
    }
   ],
   "source": [
    "df2.shape"
   ]
  },
  {
   "cell_type": "code",
   "execution_count": 5,
   "metadata": {},
   "outputs": [
    {
     "name": "stdout",
     "output_type": "stream",
     "text": [
      "<class 'pandas.core.frame.DataFrame'>\n",
      "RangeIndex: 26755 entries, 0 to 26754\n",
      "Data columns (total 47 columns):\n",
      "RACE                        26755 non-null object\n",
      "GENDER                      26755 non-null object\n",
      "AGE_INT                     26755 non-null int64\n",
      "ADMISSION_TYPE              26752 non-null object\n",
      "DISCHARGE_DISPOSITION       26749 non-null object\n",
      "ADMISSION_SOURCE            25935 non-null object\n",
      "TIME_IN_HOSPITAL            26755 non-null int64\n",
      "PAYER_CODE                  26755 non-null object\n",
      "MEDICAL_SPECIALTY           26755 non-null object\n",
      "NUM_LAB_PROCEDURES          26755 non-null int64\n",
      "NUM_PROCEDURES              26755 non-null int64\n",
      "NUM_MEDICATIONS             26755 non-null int64\n",
      "NUMBER_OUTPATIENT           26755 non-null int64\n",
      "NUMBER_EMERGENCY            26755 non-null int64\n",
      "NUMBER_INPATIENT            26755 non-null int64\n",
      "DIAG_1                      26755 non-null object\n",
      "DIAG_2                      26755 non-null object\n",
      "DIAG_3                      26755 non-null object\n",
      "NUMBER_DIAGNOSES            26755 non-null int64\n",
      "MAX_GLU_SERUM               26755 non-null object\n",
      "A1CRESULT                   26755 non-null object\n",
      "METFORMIN                   26755 non-null object\n",
      "REPAGLINIDE                 26755 non-null object\n",
      "NATEGLINIDE                 26755 non-null object\n",
      "CHLORPROPAMIDE              26755 non-null object\n",
      "GLIMEPIRIDE                 26755 non-null object\n",
      "ACETOHEXAMIDE               26755 non-null object\n",
      "GLIPIZIDE                   26755 non-null object\n",
      "GLYBURIDE                   26755 non-null object\n",
      "TOLBUTAMIDE                 26755 non-null object\n",
      "PIOGLITAZONE                26755 non-null object\n",
      "ROSIGLITAZONE               26755 non-null object\n",
      "ACARBOSE                    26755 non-null object\n",
      "MIGLITOL                    26755 non-null object\n",
      "TROGLITAZONE                26755 non-null object\n",
      "TOLAZAMIDE                  26755 non-null object\n",
      "EXAMIDE                     26755 non-null object\n",
      "CITOGLIPTON                 26755 non-null object\n",
      "INSULIN                     26755 non-null object\n",
      "GLYBURIDE_METFORMIN         26755 non-null object\n",
      "GLIPIZIDE_METFORMIN         26755 non-null object\n",
      "GLIMEPIRIDE_PIOGLITAZONE    26755 non-null object\n",
      "METFORMIN_ROSIGLITAZONE     26755 non-null object\n",
      "METFORMIN_PIOGLITAZONE      26755 non-null object\n",
      "CHANGE                      26755 non-null object\n",
      "DIABETESMED                 26755 non-null object\n",
      "READMITTED                  26755 non-null object\n",
      "dtypes: int64(9), object(38)\n",
      "memory usage: 9.6+ MB\n"
     ]
    }
   ],
   "source": [
    "df2.info()"
   ]
  },
  {
   "cell_type": "markdown",
   "metadata": {},
   "source": [
    "Il y a 47 caractéristiques dans ces données. Il contient des valeurs numériques (int) et des valeurs catégorielles (objet).\n",
    "\n",
    "Il y a 26755 échantillons présents dans cet ensemble de données. Il ne semble pas y avoir de valeurs nulles, nous allons creuser profondément et en savoir plus."
   ]
  },
  {
   "cell_type": "code",
   "execution_count": 6,
   "metadata": {},
   "outputs": [
    {
     "data": {
      "text/html": [
       "<div>\n",
       "<style scoped>\n",
       "    .dataframe tbody tr th:only-of-type {\n",
       "        vertical-align: middle;\n",
       "    }\n",
       "\n",
       "    .dataframe tbody tr th {\n",
       "        vertical-align: top;\n",
       "    }\n",
       "\n",
       "    .dataframe thead th {\n",
       "        text-align: right;\n",
       "    }\n",
       "</style>\n",
       "<table border=\"1\" class=\"dataframe\">\n",
       "  <thead>\n",
       "    <tr style=\"text-align: right;\">\n",
       "      <th></th>\n",
       "      <th>AGE_INT</th>\n",
       "      <th>TIME_IN_HOSPITAL</th>\n",
       "      <th>NUM_LAB_PROCEDURES</th>\n",
       "      <th>NUM_PROCEDURES</th>\n",
       "      <th>NUM_MEDICATIONS</th>\n",
       "      <th>NUMBER_OUTPATIENT</th>\n",
       "      <th>NUMBER_EMERGENCY</th>\n",
       "      <th>NUMBER_INPATIENT</th>\n",
       "      <th>NUMBER_DIAGNOSES</th>\n",
       "    </tr>\n",
       "  </thead>\n",
       "  <tbody>\n",
       "    <tr>\n",
       "      <td>count</td>\n",
       "      <td>26755.000000</td>\n",
       "      <td>26755.000000</td>\n",
       "      <td>26755.000000</td>\n",
       "      <td>26755.000000</td>\n",
       "      <td>26755.000000</td>\n",
       "      <td>26755.000000</td>\n",
       "      <td>26755.000000</td>\n",
       "      <td>26755.000000</td>\n",
       "      <td>26755.000000</td>\n",
       "    </tr>\n",
       "    <tr>\n",
       "      <td>mean</td>\n",
       "      <td>66.608671</td>\n",
       "      <td>4.317922</td>\n",
       "      <td>40.756681</td>\n",
       "      <td>1.475575</td>\n",
       "      <td>16.246720</td>\n",
       "      <td>0.290712</td>\n",
       "      <td>0.311755</td>\n",
       "      <td>0.670641</td>\n",
       "      <td>7.355522</td>\n",
       "    </tr>\n",
       "    <tr>\n",
       "      <td>std</td>\n",
       "      <td>15.582391</td>\n",
       "      <td>2.949791</td>\n",
       "      <td>19.965546</td>\n",
       "      <td>1.749729</td>\n",
       "      <td>8.609362</td>\n",
       "      <td>0.998707</td>\n",
       "      <td>1.437214</td>\n",
       "      <td>1.367311</td>\n",
       "      <td>1.895473</td>\n",
       "    </tr>\n",
       "    <tr>\n",
       "      <td>min</td>\n",
       "      <td>5.000000</td>\n",
       "      <td>1.000000</td>\n",
       "      <td>1.000000</td>\n",
       "      <td>0.000000</td>\n",
       "      <td>1.000000</td>\n",
       "      <td>0.000000</td>\n",
       "      <td>0.000000</td>\n",
       "      <td>0.000000</td>\n",
       "      <td>3.000000</td>\n",
       "    </tr>\n",
       "    <tr>\n",
       "      <td>25%</td>\n",
       "      <td>55.000000</td>\n",
       "      <td>2.000000</td>\n",
       "      <td>29.000000</td>\n",
       "      <td>0.000000</td>\n",
       "      <td>10.000000</td>\n",
       "      <td>0.000000</td>\n",
       "      <td>0.000000</td>\n",
       "      <td>0.000000</td>\n",
       "      <td>6.000000</td>\n",
       "    </tr>\n",
       "    <tr>\n",
       "      <td>50%</td>\n",
       "      <td>65.000000</td>\n",
       "      <td>4.000000</td>\n",
       "      <td>42.000000</td>\n",
       "      <td>1.000000</td>\n",
       "      <td>15.000000</td>\n",
       "      <td>0.000000</td>\n",
       "      <td>0.000000</td>\n",
       "      <td>0.000000</td>\n",
       "      <td>8.000000</td>\n",
       "    </tr>\n",
       "    <tr>\n",
       "      <td>75%</td>\n",
       "      <td>75.000000</td>\n",
       "      <td>6.000000</td>\n",
       "      <td>54.000000</td>\n",
       "      <td>2.000000</td>\n",
       "      <td>20.000000</td>\n",
       "      <td>0.000000</td>\n",
       "      <td>0.000000</td>\n",
       "      <td>1.000000</td>\n",
       "      <td>9.000000</td>\n",
       "    </tr>\n",
       "    <tr>\n",
       "      <td>max</td>\n",
       "      <td>95.000000</td>\n",
       "      <td>14.000000</td>\n",
       "      <td>132.000000</td>\n",
       "      <td>6.000000</td>\n",
       "      <td>81.000000</td>\n",
       "      <td>38.000000</td>\n",
       "      <td>76.000000</td>\n",
       "      <td>16.000000</td>\n",
       "      <td>16.000000</td>\n",
       "    </tr>\n",
       "  </tbody>\n",
       "</table>\n",
       "</div>"
      ],
      "text/plain": [
       "            AGE_INT  TIME_IN_HOSPITAL  NUM_LAB_PROCEDURES  NUM_PROCEDURES  \\\n",
       "count  26755.000000      26755.000000        26755.000000    26755.000000   \n",
       "mean      66.608671          4.317922           40.756681        1.475575   \n",
       "std       15.582391          2.949791           19.965546        1.749729   \n",
       "min        5.000000          1.000000            1.000000        0.000000   \n",
       "25%       55.000000          2.000000           29.000000        0.000000   \n",
       "50%       65.000000          4.000000           42.000000        1.000000   \n",
       "75%       75.000000          6.000000           54.000000        2.000000   \n",
       "max       95.000000         14.000000          132.000000        6.000000   \n",
       "\n",
       "       NUM_MEDICATIONS  NUMBER_OUTPATIENT  NUMBER_EMERGENCY  NUMBER_INPATIENT  \\\n",
       "count     26755.000000       26755.000000      26755.000000      26755.000000   \n",
       "mean         16.246720           0.290712          0.311755          0.670641   \n",
       "std           8.609362           0.998707          1.437214          1.367311   \n",
       "min           1.000000           0.000000          0.000000          0.000000   \n",
       "25%          10.000000           0.000000          0.000000          0.000000   \n",
       "50%          15.000000           0.000000          0.000000          0.000000   \n",
       "75%          20.000000           0.000000          0.000000          1.000000   \n",
       "max          81.000000          38.000000         76.000000         16.000000   \n",
       "\n",
       "       NUMBER_DIAGNOSES  \n",
       "count      26755.000000  \n",
       "mean           7.355522  \n",
       "std            1.895473  \n",
       "min            3.000000  \n",
       "25%            6.000000  \n",
       "50%            8.000000  \n",
       "75%            9.000000  \n",
       "max           16.000000  "
      ]
     },
     "execution_count": 6,
     "metadata": {},
     "output_type": "execute_result"
    }
   ],
   "source": [
    "df2.describe()"
   ]
  },
  {
   "cell_type": "markdown",
   "metadata": {},
   "source": [
    "       'RACE', 'GENDER', 'AGE_INT', 'ADMISSION_TYPE', 'DISCHARGE_DISPOSITION',\n",
    "       'ADMISSION_SOURCE', 'TIME_IN_HOSPITAL', 'PAYER_CODE',\n",
    "       'MEDICAL_SPECIALTY', 'NUM_LAB_PROCEDURES', 'NUM_PROCEDURES',\n",
    "       'NUM_MEDICATIONS', 'NUMBER_OUTPATIENT', 'NUMBER_EMERGENCY',\n",
    "       'NUMBER_INPATIENT', 'DIAG_1', 'DIAG_2', 'DIAG_3', 'NUMBER_DIAGNOSES',\n",
    "       'MAX_GLU_SERUM', 'A1CRESULT', 'METFORMIN', 'REPAGLINIDE', 'NATEGLINIDE',\n",
    "       'CHLORPROPAMIDE', 'GLIMEPIRIDE', 'ACETOHEXAMIDE', 'GLIPIZIDE',\n",
    "       'GLYBURIDE', 'TOLBUTAMIDE', 'PIOGLITAZONE', 'ROSIGLITAZONE', 'ACARBOSE',\n",
    "       'MIGLITOL', 'TROGLITAZONE', 'TOLAZAMIDE', 'EXAMIDE', 'CITOGLIPTON',\n",
    "       'INSULIN', 'GLYBURIDE_METFORMIN', 'GLIPIZIDE_METFORMIN',\n",
    "       'GLIMEPIRIDE_PIOGLITAZONE', 'METFORMIN_ROSIGLITAZONE',\n",
    "       'METFORMIN_PIOGLITAZONE', 'CHANGE', 'DIABETESMED', 'READMITTED'"
   ]
  },
  {
   "cell_type": "markdown",
   "metadata": {},
   "source": [
    "Nous avons 47 variables, alors jetons un coup d'œil à chacun.\n",
    "\n",
    "#### 1. RACE :  C'est une variable catégorielle."
   ]
  },
  {
   "cell_type": "code",
   "execution_count": 7,
   "metadata": {},
   "outputs": [
    {
     "name": "stdout",
     "output_type": "stream",
     "text": [
      "Caucasian          20183\n",
      "AfricanAmerican     5359\n",
      "Hispanic             487\n",
      "Other                476\n",
      "Asian                250\n",
      "Name: RACE, dtype: int64\n"
     ]
    },
    {
     "data": {
      "image/png": "[encoded data removed]",
      "text/plain": [
       "<Figure size 1080x360 with 1 Axes>"
      ]
     },
     "metadata": {},
     "output_type": "display_data"
    }
   ],
   "source": [
    "print(df2['RACE'].value_counts())\n",
    "df2['RACE'].value_counts().plot(kind='pie',autopct='%.2f%%',figsize=(15,5))\n",
    "plt.show()"
   ]
  },
  {
   "cell_type": "markdown",
   "metadata": {},
   "source": [
    "Il y a 5 catégories distinctes pour la variable RACE."
   ]
  },
  {
   "cell_type": "markdown",
   "metadata": {},
   "source": [
    "Pour le remplissage des valeurs nulles, nous avons essayé de remplacer par mode, en effectuant une substitution selon la distribution prob, en supprimant les valeurs nulles mais en supprimant les valeurs nulles semblant obtenir les meilleurs résultats."
   ]
  },
  {
   "cell_type": "code",
   "execution_count": 8,
   "metadata": {},
   "outputs": [],
   "source": [
    "df2 = df2.dropna()"
   ]
  },
  {
   "cell_type": "code",
   "execution_count": 9,
   "metadata": {},
   "outputs": [
    {
     "data": {
      "text/plain": [
       "(25926, 47)"
      ]
     },
     "execution_count": 9,
     "metadata": {},
     "output_type": "execute_result"
    }
   ],
   "source": [
    "df2.shape"
   ]
  },
  {
   "cell_type": "markdown",
   "metadata": {},
   "source": [
    "\n",
    "#### 2. GENDER: C'est une caractéristique catégorique représentant le sexe du patient."
   ]
  },
  {
   "cell_type": "code",
   "execution_count": 10,
   "metadata": {},
   "outputs": [
    {
     "data": {
      "image/png": "[encoded data removed]",
      "text/plain": [
       "<Figure size 432x288 with 1 Axes>"
      ]
     },
     "metadata": {
      "needs_background": "light"
     },
     "output_type": "display_data"
    },
    {
     "name": "stdout",
     "output_type": "stream",
     "text": [
      "Female    14101\n",
      "Male      11825\n",
      "Name: GENDER, dtype: int64\n"
     ]
    }
   ],
   "source": [
    "sns.countplot(df2.GENDER)\n",
    "plt.show()\n",
    "print(df2.GENDER.value_counts())"
   ]
  },
  {
   "cell_type": "markdown",
   "metadata": {},
   "source": [
    "Il y a 2 catégories ici: femme, homme."
   ]
  },
  {
   "cell_type": "code",
   "execution_count": 11,
   "metadata": {},
   "outputs": [],
   "source": [
    "#encoding gender\n",
    "df2['GENDER'] = df2['GENDER'].replace({'Female' : 0, 'Male' : 1})"
   ]
  },
  {
   "cell_type": "markdown",
   "metadata": {},
   "source": [
    "#### 3. AGE_INT: C'est l'age du personne; on a déja traiter ces valeurs avec SQL "
   ]
  },
  {
   "cell_type": "code",
   "execution_count": 12,
   "metadata": {},
   "outputs": [
    {
     "data": {
      "image/png": "[encoded data removed]",
      "text/plain": [
       "<Figure size 432x288 with 1 Axes>"
      ]
     },
     "metadata": {
      "needs_background": "light"
     },
     "output_type": "display_data"
    }
   ],
   "source": [
    "# check 'age' feature\n",
    "df2.groupby('AGE_INT').size().plot(kind='bar')\n",
    "plt.ylabel('Count')\n",
    "plt.show()"
   ]
  },
  {
   "cell_type": "markdown",
   "metadata": {},
   "source": [
    "L'âge ici varie de 0 à 100 ans.\n",
    "\n",
    "\n",
    "La population comprise entre 50 et 90 ans est principalement présente dans cet ensemble de données."
   ]
  },
  {
   "cell_type": "markdown",
   "metadata": {},
   "source": [
    "#### 4. ADMISSION_TYPE : Identifiant correspondant à des valeurs distinctes, par exemple, urgence, urgent, électif, nouveau-né et non disponible."
   ]
  },
  {
   "cell_type": "code",
   "execution_count": 13,
   "metadata": {},
   "outputs": [
    {
     "data": {
      "text/plain": [
       "5"
      ]
     },
     "execution_count": 13,
     "metadata": {},
     "output_type": "execute_result"
    }
   ],
   "source": [
    "df2.ADMISSION_TYPE.nunique()"
   ]
  },
  {
   "cell_type": "markdown",
   "metadata": {},
   "source": [
    "Pour une analyse plus approfondie, nous pouvons fusionner ces catégories en moins de catégories.\n",
    "\n",
    "\n",
    "Emeregncy/Urgent/Trauma Center ---> Emergency"
   ]
  },
  {
   "cell_type": "code",
   "execution_count": 14,
   "metadata": {},
   "outputs": [],
   "source": [
    "df2['ADMISSION_TYPE']=df2['ADMISSION_TYPE'].replace({'Urgent':'Emergency','Emergency':'Emergency'})"
   ]
  },
  {
   "cell_type": "code",
   "execution_count": 15,
   "metadata": {},
   "outputs": [
    {
     "data": {
      "image/png": "[encoded data removed]",
      "text/plain": [
       "<Figure size 432x288 with 1 Axes>"
      ]
     },
     "metadata": {
      "needs_background": "light"
     },
     "output_type": "display_data"
    }
   ],
   "source": [
    "sns.countplot(df2['ADMISSION_TYPE'])\n",
    "plt.show()"
   ]
  },
  {
   "cell_type": "markdown",
   "metadata": {},
   "source": [
    "De là, nous pouvons voir que la majorité des patients qui ont été admis dans cet hôpital ont un type d'admission en urgence."
   ]
  },
  {
   "cell_type": "code",
   "execution_count": 16,
   "metadata": {},
   "outputs": [
    {
     "data": {
      "text/html": [
       "<div>\n",
       "<style scoped>\n",
       "    .dataframe tbody tr th:only-of-type {\n",
       "        vertical-align: middle;\n",
       "    }\n",
       "\n",
       "    .dataframe tbody tr th {\n",
       "        vertical-align: top;\n",
       "    }\n",
       "\n",
       "    .dataframe thead th {\n",
       "        text-align: right;\n",
       "    }\n",
       "</style>\n",
       "<table border=\"1\" class=\"dataframe\">\n",
       "  <thead>\n",
       "    <tr style=\"text-align: right;\">\n",
       "      <th></th>\n",
       "      <th>GENDER</th>\n",
       "      <th>AGE_INT</th>\n",
       "      <th>ADMISSION_TYPE</th>\n",
       "    </tr>\n",
       "  </thead>\n",
       "  <tbody>\n",
       "    <tr>\n",
       "      <td>4665</td>\n",
       "      <td>1</td>\n",
       "      <td>65</td>\n",
       "      <td>Newborn</td>\n",
       "    </tr>\n",
       "  </tbody>\n",
       "</table>\n",
       "</div>"
      ],
      "text/plain": [
       "      GENDER  AGE_INT ADMISSION_TYPE\n",
       "4665       1       65        Newborn"
      ]
     },
     "execution_count": 16,
     "metadata": {},
     "output_type": "execute_result"
    }
   ],
   "source": [
    "df2[df2['ADMISSION_TYPE']== 'Newborn'][['GENDER','AGE_INT','ADMISSION_TYPE']]"
   ]
  },
  {
   "cell_type": "markdown",
   "metadata": {},
   "source": [
    "Supprimer la catégorie newborn parce que  ADMISSION_TYPE == newborn et l'âge et le sexe qui y correspondent donnent des informations contradictoires."
   ]
  },
  {
   "cell_type": "code",
   "execution_count": 17,
   "metadata": {},
   "outputs": [],
   "source": [
    "df2=df2[df2['ADMISSION_TYPE']!='Newborn']"
   ]
  },
  {
   "cell_type": "code",
   "execution_count": 18,
   "metadata": {},
   "outputs": [
    {
     "data": {
      "text/plain": [
       "Emergency        17874\n",
       "Elective          8014\n",
       "Not Available       37\n",
       "Name: ADMISSION_TYPE, dtype: int64"
      ]
     },
     "execution_count": 18,
     "metadata": {},
     "output_type": "execute_result"
    }
   ],
   "source": [
    "df2.ADMISSION_TYPE.value_counts()"
   ]
  },
  {
   "cell_type": "markdown",
   "metadata": {},
   "source": [
    "\n",
    "#### 5. DISCHARGE_DISPOSITION: Identifiant entier correspondant à 26 valeurs distinctes, par exemple, déchargé vers le domicile, expiré et non disponible"
   ]
  },
  {
   "cell_type": "code",
   "execution_count": 19,
   "metadata": {},
   "outputs": [
    {
     "data": {
      "text/plain": [
       "Discharged to home                                                                                           16621\n",
       "Discharged/transferred to SNF                                                                                 4047\n",
       "Discharged/transferred to home with home health service                                                       2527\n",
       "Discharged/transferred to another rehab fac including rehab units of a hospital .                              781\n",
       "Discharged/transferred to another short term hospital                                                          593\n",
       "Expired                                                                                                        426\n",
       "Discharged/transferred to another type of inpatient care institution                                           225\n",
       "Discharged/transferred to ICF                                                                                  222\n",
       "Left AMA                                                                                                       155\n",
       "Discharged/transferred to a long term care hospital.                                                           139\n",
       "Hospice / home                                                                                                 115\n",
       "Hospice / medical facility                                                                                      38\n",
       "Discharged/transferred/referred to a psychiatric hospital of psychiatric distinct part unit of a hospital       11\n",
       "Expired at home. Medicaid only, hospice.                                                                         8\n",
       "Discharged/transferred to home under care of Home IV provider                                                    6\n",
       "Discharged/transferred to a nursing facility certified under Medicaid but not certified under Medicare.          5\n",
       "Discharged/transferred within this institution to Medicare approved swing bed                                    3\n",
       "Not Mapped                                                                                                       1\n",
       "Admitted as an inpatient to this hospital                                                                        1\n",
       "Discharged/transferred to a federal health care facility.                                                        1\n",
       "Name: DISCHARGE_DISPOSITION, dtype: int64"
      ]
     },
     "execution_count": 19,
     "metadata": {},
     "output_type": "execute_result"
    }
   ],
   "source": [
    "df2.DISCHARGE_DISPOSITION.value_counts()"
   ]
  },
  {
   "cell_type": "markdown",
   "metadata": {},
   "source": [
    "#### discharge_disposition_id\tdescription\n",
    "\n",
    "1\tDischarged to home\n",
    "\n",
    "2\tDischarged/transferred to another short term hospital\n",
    "\n",
    "3\tDischarged/transferred to SNF(skilled nursing facility)\n",
    "\n",
    "4\tDischarged/transferred to ICF(intermediate care facility)\n",
    "\n",
    "5\tDischarged/transferred to another type of inpatient care institution\n",
    "\n",
    "6\tDischarged/transferred to home with home health service\n",
    "\n",
    "7\tLeft AMA(Against Medical Advice.)\n",
    "\n",
    "8\tDischarged/transferred to home under care of Home IV provider\n",
    "\n",
    "9\tAdmitted as an inpatient to this hospital\n",
    "\n",
    "10\tNeonate discharged to another hospital for neonatal aftercare\n",
    "\n",
    "11\tExpired\n",
    "\n",
    "12\tStill patient or expected to return for outpatient services\n",
    "\n",
    "13\tHospice / home\n",
    "\n",
    "14\tHospice / medical facility\n",
    "\n",
    "15\tDischarged/transferred within this institution to Medicare approved swing bed\n",
    "\n",
    "16\tDischarged/transferred/referred another institution for outpatient services\n",
    "\n",
    "17\tDischarged/transferred/referred to this institution for outpatient services\n",
    "\n",
    "18\tNULL\n",
    "\n",
    "19\tExpired at home. Medicaid only, hospice.\n",
    "\n",
    "20\tExpired in a medical facility. Medicaid only, hospice.\n",
    "\n",
    "21\tExpired, place unknown. Medicaid only, hospice.\n",
    "\n",
    "22\tDischarged/transferred to another rehab fac including rehab units of a hospital .\n",
    "\n",
    "23\tDischarged/transferred to a long term care hospital.\n",
    "\n",
    "24\tDischarged/transferred to a nursing facility certified under Medicaid but not certified under Medicare.\n",
    "\n",
    "25\tNot Mapped\n",
    "\n",
    "26\tUnknown/Invalid\n",
    "\n",
    "30\tDischarged/transferred to another Type of Health Care Institution not Defined Elsewhere\n",
    "\n",
    "27\tDischarged/transferred to a federal health care facility.\n",
    "\n",
    "28\tDischarged/transferred/referred to a psychiatric hospital of psychiatric distinct part unit of a hospital\n",
    "\n",
    "29\tDischarged/transferred to a Critical Access Hospital (CAH).\n",
    "\n",
    "#### Nous pouvons fusionner plusieurs groupes ici pour réduire le nombre de catégories:\n",
    "\n",
    "1 ---> Discharged to home\n",
    "\n",
    "2/3/4/5/10/16/22/23/24/30/27/28/29 ---> Transferred to another medical facility\n",
    "\n",
    "7 ---> Left AMA(Against Medical Advice.)\n",
    "\n",
    "6/8 ---> Discharged to home with home health service\n",
    "\n",
    "9/12/15/17 ---> Still patient/referred to this institution\n",
    "\n",
    "11/19/20/21  ---> Expired\n",
    "\n",
    "18/25/26 ---> Not Available\n",
    "\n",
    "13/14 ---> Hospice"
   ]
  },
  {
   "cell_type": "code",
   "execution_count": 20,
   "metadata": {},
   "outputs": [],
   "source": [
    "df2['DISCHARGE_DISPOSITION']=df2['DISCHARGE_DISPOSITION'].replace({'Discharged to home':'Discharged to home',\n",
    "                                        'Discharged/transferred to another short term hospital':'Transferred to another medical facility',\n",
    "                                        'Discharged/transferred to SNF':'Transferred to another medical facility',\n",
    "                                        'Discharged/transferred to ICF':'Transferred to another medical facility',\n",
    "                                        'Discharged/transferred to another type of inpatient care institution':'Transferred to another medical facility',\n",
    "                                        'Discharged/transferred to another rehab fac including rehab units of a hospital .':'Transferred to another medical facility',\n",
    "                                        'Discharged/transferred to a long term care hospital.':'Transferred to another medical facility',\n",
    "                                        'Discharged/transferred to a nursing facility certified under Medicaid but not certified under Medicare.':'Transferred to another medical facility',\n",
    "                                        'Discharged/transferred to a federal health care facility.':'Transferred to another medical facility',\n",
    "                                        'Discharged/transferred/referred to a psychiatric hospital of psychiatric distinct part unit of a hospital':'Transferred to another medical facility',\n",
    "                                        'Discharged/transferred to home under care of Home IV provider':'Discharged to home with home health service',\n",
    "                                        'Left AMA':'Left AMA',\n",
    "                                        'Admitted as an inpatient to this hospital':'Still patient/referred to this institution',\n",
    "                                        'Discharged/transferred within this institution to Medicare approved swing bed':'Still patient/referred to this institution',\n",
    "                                        'Expired':'Expired',\n",
    "                                        'Expired at home. Medicaid only, hospice.':'Expired',\n",
    "                                        'Hospice / home':'Hospice',\n",
    "                                        'Hospice / medical facility':'Hospice',\n",
    "                                        'Not Mapped':'Not Available'})"
   ]
  },
  {
   "cell_type": "code",
   "execution_count": 21,
   "metadata": {},
   "outputs": [
    {
     "data": {
      "text/plain": [
       "Discharged to home                                         16621\n",
       "Transferred to another medical facility                     6024\n",
       "Discharged/transferred to home with home health service     2527\n",
       "Expired                                                      434\n",
       "Left AMA                                                     155\n",
       "Hospice                                                      153\n",
       "Discharged to home with home health service                    6\n",
       "Still patient/referred to this institution                     4\n",
       "Not Available                                                  1\n",
       "Name: DISCHARGE_DISPOSITION, dtype: int64"
      ]
     },
     "execution_count": 21,
     "metadata": {},
     "output_type": "execute_result"
    }
   ],
   "source": [
    "df2.DISCHARGE_DISPOSITION.value_counts()"
   ]
  },
  {
   "cell_type": "markdown",
   "metadata": {},
   "source": [
    "Les patients qui ont expiré doivent être retirés du système car ils créeront un biais car ils ne seront pas admis."
   ]
  },
  {
   "cell_type": "code",
   "execution_count": 22,
   "metadata": {},
   "outputs": [],
   "source": [
    "df2=df2[df2['DISCHARGE_DISPOSITION']!='Expired']\n",
    "df2=df2[df2['DISCHARGE_DISPOSITION']!='Hospice']"
   ]
  },
  {
   "cell_type": "markdown",
   "metadata": {},
   "source": [
    "#### 6. ADMISSION_SOURCE: Identifiant entier correspondant à 17 valeurs distinctes, par exemple, recommandation d'un médecin, salle d'urgence et transfert d'un hôpital"
   ]
  },
  {
   "cell_type": "code",
   "execution_count": 23,
   "metadata": {},
   "outputs": [
    {
     "data": {
      "text/plain": [
       "Transfer from critial access hospital                            2\n",
       "Emergency Room                                               13243\n",
       "Transfer from another health care facility                    1449\n",
       "Physician Referral                                            9577\n",
       "Transfer from a hospital                                       620\n",
       "Not Available                                                   42\n",
       "Transfer from a Skilled Nursing Facility (SNF)                 340\n",
       "Transfer from hospital inpt/same fac reslt in a sep claim        2\n",
       "Clinic Referral                                                 47\n",
       "Sick Baby                                                        1\n",
       "Court/Law Enforcement                                            5\n",
       "HMO Referral                                                    10\n",
       "Name: ADMISSION_SOURCE, dtype: int64"
      ]
     },
     "execution_count": 23,
     "metadata": {},
     "output_type": "execute_result"
    }
   ],
   "source": [
    "df2.ADMISSION_SOURCE.value_counts(sort=False)"
   ]
  },
  {
   "cell_type": "markdown",
   "metadata": {},
   "source": [
    "\n",
    "1\t Physician Referral\n",
    "\n",
    "2\tClinic Referral\n",
    "\n",
    "3\tHMO Referral(Health Maintenance Organization)\n",
    "\n",
    "4\tTransfer from a hospital\n",
    "\n",
    "5\t Transfer from a Skilled Nursing Facility (SNF)\n",
    "\n",
    "6\t Transfer from another health care facility\n",
    "\n",
    "7\t Emergency Room\n",
    "\n",
    "8\t Court/Law Enforcement\n",
    "\n",
    "9\t Not Available\n",
    "\n",
    "10\t Transfer from critial access hospital\n",
    "\n",
    "11\tNormal Delivery\n",
    "\n",
    "12\t Premature Delivery\n",
    "\n",
    "13\t Sick Baby\n",
    "\n",
    "14\t Extramural Birth\n",
    "\n",
    "15\tNot Available\n",
    "\n",
    "17\tNULL\n",
    "\n",
    "18\t Transfer From Another Home Health Agency\n",
    "\n",
    "19\tReadmission to Same Home Health Agency\n",
    "\n",
    "20\t Not Mapped\n",
    "\n",
    "21\tUnknown/Invalid\n",
    "\n",
    "22\t Transfer from hospital inpt/same fac reslt in a sep claim\n",
    "\n",
    "23\t Born inside this hospital\n",
    "\n",
    "24\t Born outside this hospital\n",
    "\n",
    "25\t Transfer from Ambulatory Surgery Center\n",
    "\n",
    "26\tTransfer from Hospice\n",
    "\n",
    "#### Nous pouvons fusionner plusieurs groupes ici pour réduire le nombre de catégories:\n",
    "\n",
    "1/2/3 ---> Referral\n",
    "\n",
    "4/5/6/10/18/19/25/26/22 ---> Transferred from another health care facility\n",
    "\n",
    "7 ---> Emergency\n",
    "\n",
    "9/15/17/20/21 ---> Not Available\n",
    "\n",
    "8 --->  Court/Law Enforcement\n",
    "\n",
    "Delivery ---> 11/12/14/13/23/24"
   ]
  },
  {
   "cell_type": "code",
   "execution_count": 24,
   "metadata": {},
   "outputs": [],
   "source": [
    "df2['ADMISSION_SOURCE']=df2['ADMISSION_SOURCE'].replace({'Physician Referral':'Referral',\n",
    "                                   'Clinic Referral':'Referral',\n",
    "                                   'HMO Referral':'Referral',\n",
    "                                   'Transfer from a hospital':'Transferred from another health care facility',\n",
    "                                   'Transfer from a Skilled Nursing Facility (SNF)':'Transferred from another health care facility',\n",
    "                                   'Transfer from another health care facility':'Transferred from another health care facility',\n",
    "                                   'Court/Law Enforcement':'Emergency',                                    \n",
    "                                   'Transfer from critial access hospital':'Transferred from another health care facility',\n",
    "                                   'Emergency Room':'Emergency',\n",
    "                                   'Not Available':'Not Available',\n",
    "                                   'Sick Baby':'Delivery',\n",
    "                                   'Transfer from hospital inpt/same fac reslt in a sep claim':\"Transferred from another health care facility\"\n",
    "                                    })"
   ]
  },
  {
   "cell_type": "code",
   "execution_count": 25,
   "metadata": {},
   "outputs": [
    {
     "data": {
      "text/plain": [
       "Emergency                                        13248\n",
       "Referral                                          9634\n",
       "Transferred from another health care facility     2413\n",
       "Not Available                                       42\n",
       "Delivery                                             1\n",
       "Name: ADMISSION_SOURCE, dtype: int64"
      ]
     },
     "execution_count": 25,
     "metadata": {},
     "output_type": "execute_result"
    }
   ],
   "source": [
    "df2.ADMISSION_SOURCE.value_counts()"
   ]
  },
  {
   "cell_type": "code",
   "execution_count": 26,
   "metadata": {},
   "outputs": [
    {
     "data": {
      "text/html": [
       "<div>\n",
       "<style scoped>\n",
       "    .dataframe tbody tr th:only-of-type {\n",
       "        vertical-align: middle;\n",
       "    }\n",
       "\n",
       "    .dataframe tbody tr th {\n",
       "        vertical-align: top;\n",
       "    }\n",
       "\n",
       "    .dataframe thead th {\n",
       "        text-align: right;\n",
       "    }\n",
       "</style>\n",
       "<table border=\"1\" class=\"dataframe\">\n",
       "  <thead>\n",
       "    <tr style=\"text-align: right;\">\n",
       "      <th></th>\n",
       "      <th>GENDER</th>\n",
       "      <th>AGE_INT</th>\n",
       "      <th>ADMISSION_SOURCE</th>\n",
       "    </tr>\n",
       "  </thead>\n",
       "  <tbody>\n",
       "    <tr>\n",
       "      <td>25302</td>\n",
       "      <td>1</td>\n",
       "      <td>75</td>\n",
       "      <td>Delivery</td>\n",
       "    </tr>\n",
       "  </tbody>\n",
       "</table>\n",
       "</div>"
      ],
      "text/plain": [
       "       GENDER  AGE_INT ADMISSION_SOURCE\n",
       "25302       1       75         Delivery"
      ]
     },
     "execution_count": 26,
     "metadata": {},
     "output_type": "execute_result"
    }
   ],
   "source": [
    "df2[df2['ADMISSION_SOURCE']=='Delivery'][['GENDER','AGE_INT','ADMISSION_SOURCE']]"
   ]
  },
  {
   "cell_type": "markdown",
   "metadata": {},
   "source": [
    "Supprimer la catégorie 'Delivery' car admission_source == delivery et l'âge correspondant donnent des informations contradictoires."
   ]
  },
  {
   "cell_type": "code",
   "execution_count": 27,
   "metadata": {},
   "outputs": [],
   "source": [
    "df2=df2[df2['ADMISSION_SOURCE']!='Delivery']"
   ]
  },
  {
   "cell_type": "markdown",
   "metadata": {},
   "source": [
    "* Puisque nous avons 2 colonnes concernant l'admission, type_id et source_id, nous avons utilisé ces informations pour remplir les valeurs \"Not Available\" dans les colonnes admssion_source_id par rapport à admission_type_id. Par exemple, si admission_type_id est Emergency mais admission_source_id n'est pas disponible, nous pouvons remplir Emergency (mode) à cet endroit.\n",
    "* Après l'avoir remplie, la colonne admission_type_id a été supprimée car elle donnait les mêmes informations que admission_source_id et était moins significative statistiquement."
   ]
  },
  {
   "cell_type": "code",
   "execution_count": 28,
   "metadata": {},
   "outputs": [],
   "source": [
    "df2 = df2.reset_index(drop = True )"
   ]
  },
  {
   "cell_type": "code",
   "execution_count": 29,
   "metadata": {},
   "outputs": [
    {
     "data": {
      "text/plain": [
       "Emergency                                        12395\n",
       "Referral                                          2793\n",
       "Transferred from another health care facility     2160\n",
       "Not Available                                       39\n",
       "Name: ADMISSION_SOURCE, dtype: int64"
      ]
     },
     "execution_count": 29,
     "metadata": {},
     "output_type": "execute_result"
    }
   ],
   "source": [
    "# Avant\n",
    "df2[df2['ADMISSION_TYPE']=='Emergency']['ADMISSION_SOURCE'].value_counts()"
   ]
  },
  {
   "cell_type": "code",
   "execution_count": 30,
   "metadata": {},
   "outputs": [],
   "source": [
    "for i in range(df2.shape[0]):\n",
    "    if df2.loc[i, 'ADMISSION_SOURCE'] == 'Not Available' and df2.loc[i, 'ADMISSION_TYPE'] == 'Emergency':\n",
    "        df2.loc[i, 'ADMISSION_SOURCE'] = 'Emergency'"
   ]
  },
  {
   "cell_type": "code",
   "execution_count": 31,
   "metadata": {},
   "outputs": [
    {
     "data": {
      "text/plain": [
       "Emergency                                        12434\n",
       "Referral                                          2793\n",
       "Transferred from another health care facility     2160\n",
       "Name: ADMISSION_SOURCE, dtype: int64"
      ]
     },
     "execution_count": 31,
     "metadata": {},
     "output_type": "execute_result"
    }
   ],
   "source": [
    "# Après\n",
    "df2[df2['ADMISSION_TYPE']=='Emergency']['ADMISSION_SOURCE'].value_counts()"
   ]
  },
  {
   "cell_type": "code",
   "execution_count": 32,
   "metadata": {},
   "outputs": [
    {
     "data": {
      "text/plain": [
       "Referral                                         6806\n",
       "Emergency                                         852\n",
       "Transferred from another health care facility     252\n",
       "Not Available                                       3\n",
       "Name: ADMISSION_SOURCE, dtype: int64"
      ]
     },
     "execution_count": 32,
     "metadata": {},
     "output_type": "execute_result"
    }
   ],
   "source": [
    "# Avant\n",
    "df2[df2['ADMISSION_TYPE']=='Elective']['ADMISSION_SOURCE'].value_counts()"
   ]
  },
  {
   "cell_type": "code",
   "execution_count": 33,
   "metadata": {},
   "outputs": [],
   "source": [
    "for i in range(df2.shape[0]):\n",
    "    if df2.loc[i, 'ADMISSION_SOURCE'] == 'Not Available' and df2.loc[i, 'ADMISSION_TYPE'] == 'Elective':\n",
    "        df2.loc[i, 'ADMISSION_SOURCE'] = 'Referral'"
   ]
  },
  {
   "cell_type": "code",
   "execution_count": 34,
   "metadata": {},
   "outputs": [
    {
     "data": {
      "text/plain": [
       "Referral                                         6809\n",
       "Emergency                                         852\n",
       "Transferred from another health care facility     252\n",
       "Name: ADMISSION_SOURCE, dtype: int64"
      ]
     },
     "execution_count": 34,
     "metadata": {},
     "output_type": "execute_result"
    }
   ],
   "source": [
    "# Après\n",
    "df2[df2['ADMISSION_TYPE']=='Elective']['ADMISSION_SOURCE'].value_counts()"
   ]
  },
  {
   "cell_type": "markdown",
   "metadata": {},
   "source": [
    "#### 7. TIME_IN_HOSPITAL: Nombre entier de jours entre l'admission et la sortie"
   ]
  },
  {
   "cell_type": "code",
   "execution_count": 35,
   "metadata": {},
   "outputs": [
    {
     "data": {
      "image/png": "[encoded data removed]",
      "text/plain": [
       "<Figure size 432x288 with 1 Axes>"
      ]
     },
     "metadata": {
      "needs_background": "light"
     },
     "output_type": "display_data"
    }
   ],
   "source": [
    "sns.countplot(df2.TIME_IN_HOSPITAL)\n",
    "plt.show()"
   ]
  },
  {
   "cell_type": "markdown",
   "metadata": {},
   "source": [
    "Le temps passé à l'hôpital varie de 1 jour à 14 jours.\n",
    "\n",
    "#### 8. PAYER_CODE : Identifiant entier correspondant à 23 valeurs distinctes, par exemple, Blue Cross / Blue Shield, Medicare et Self-Pay Medical"
   ]
  },
  {
   "cell_type": "code",
   "execution_count": 36,
   "metadata": {},
   "outputs": [
    {
     "name": "stdout",
     "output_type": "stream",
     "text": [
      "MC    51.371512\n",
      "SP    11.311521\n",
      "BC     9.902514\n",
      "MD     6.776651\n",
      "UN     6.460907\n",
      "HM     5.071634\n",
      "CP     3.512649\n",
      "OG     2.099696\n",
      "CM     1.981292\n",
      "PO     0.560445\n",
      "DM     0.477562\n",
      "WC     0.236808\n",
      "CH     0.090776\n",
      "OT     0.082883\n",
      "MP     0.051308\n",
      "SI     0.011840\n",
      "Name: PAYER_CODE, dtype: float64\n"
     ]
    },
    {
     "data": {
      "image/png": "[encoded data removed]",
      "text/plain": [
       "<Figure size 1080x360 with 1 Axes>"
      ]
     },
     "metadata": {},
     "output_type": "display_data"
    }
   ],
   "source": [
    "print(df2['PAYER_CODE'].value_counts(1)*100)\n",
    "df2['PAYER_CODE'].value_counts().plot(kind='pie',autopct='%.2f%%',figsize=(15,5))\n",
    "plt.show()"
   ]
  },
  {
   "cell_type": "markdown",
   "metadata": {},
   "source": [
    "Payer_code n'est pas significatif pour la réadmission des patients, nous pouvons donc l'abandonner."
   ]
  },
  {
   "cell_type": "code",
   "execution_count": 37,
   "metadata": {},
   "outputs": [],
   "source": [
    "df2.drop(['PAYER_CODE'],axis=1,inplace=True)"
   ]
  },
  {
   "cell_type": "markdown",
   "metadata": {},
   "source": [
    "#### 9. MEDICAL_SPECIALTY: Identifiant entier d'une spécialité du médecin admettant, correspondant à 55 valeurs distinctes, par exemple, cardiologie, médecine interne, médecine familiale / médecine générale et chirurgien"
   ]
  },
  {
   "cell_type": "code",
   "execution_count": 38,
   "metadata": {},
   "outputs": [
    {
     "data": {
      "text/plain": [
       "55"
      ]
     },
     "execution_count": 38,
     "metadata": {},
     "output_type": "execute_result"
    }
   ],
   "source": [
    "df2.MEDICAL_SPECIALTY.nunique()"
   ]
  },
  {
   "cell_type": "code",
   "execution_count": 39,
   "metadata": {},
   "outputs": [
    {
     "data": {
      "text/plain": [
       "Emergency/Trauma                     27.035561\n",
       "InternalMedicine                     22.465170\n",
       "Family/GeneralPractice               10.668193\n",
       "Cardiology                            8.777677\n",
       "Surgery-General                       6.709555\n",
       "Radiologist                           4.033627\n",
       "Nephrology                            3.378458\n",
       "Orthopedics                           3.331097\n",
       "Surgery-Vascular                      1.326124\n",
       "Gastroenterology                      1.211667\n",
       "Surgery-Cardiovascular/Thoracic       1.203773\n",
       "Pulmonology                           1.191933\n",
       "ObstetricsandGynecology               1.089316\n",
       "Urology                               1.034061\n",
       "Psychiatry                            0.891976\n",
       "Orthopedics-Reconstructive            0.793306\n",
       "Surgery-Neuro                         0.682796\n",
       "Neurology                             0.607807\n",
       "Oncology                              0.588073\n",
       "Podiatry                              0.323637\n",
       "Psychology                            0.264435\n",
       "Hematology                            0.260489\n",
       "PhysicalMedicineandRehabilitation     0.224967\n",
       "Hospitalist                           0.217074\n",
       "Otolaryngology                        0.205233\n",
       "Surgery-Thoracic                      0.165765\n",
       "Gynecology                            0.149978\n",
       "Pediatrics                            0.138138\n",
       "Osteopath                             0.122351\n",
       "SurgicalSpecialty                     0.122351\n",
       "Endocrinology                         0.118404\n",
       "Ophthalmology                         0.094723\n",
       "InfectiousDiseases                    0.086830\n",
       "Obstetrics                            0.074989\n",
       "Radiology                             0.063149\n",
       "Surgeon                               0.063149\n",
       "Surgery-Cardiovascular                0.051308\n",
       "OutreachServices                      0.047362\n",
       "Surgery-Plastic                       0.035521\n",
       "Endocrinology-Metabolism              0.031574\n",
       "Anesthesiology                        0.027628\n",
       "DCPTEAM                               0.019734\n",
       "Rheumatology                          0.011840\n",
       "Hematology/Oncology                   0.011840\n",
       "PhysicianNotFound                     0.007894\n",
       "Resident                              0.003947\n",
       "Perinatology                          0.003947\n",
       "Dentistry                             0.003947\n",
       "Pediatrics-CriticalCare               0.003947\n",
       "Pediatrics-Pulmonology                0.003947\n",
       "Neurophysiology                       0.003947\n",
       "Proctology                            0.003947\n",
       "SportsMedicine                        0.003947\n",
       "Dermatology                           0.003947\n",
       "AllergyandImmunology                  0.003947\n",
       "Name: MEDICAL_SPECIALTY, dtype: float64"
      ]
     },
     "execution_count": 39,
     "metadata": {},
     "output_type": "execute_result"
    }
   ],
   "source": [
    "df2.MEDICAL_SPECIALTY.value_counts(1)*100"
   ]
  },
  {
   "cell_type": "markdown",
   "metadata": {},
   "source": [
    "#### 10. NUM_LAB_PROCEDURES: Nombre de tests de laboratoire effectués pendant la rencontre"
   ]
  },
  {
   "cell_type": "code",
   "execution_count": 40,
   "metadata": {},
   "outputs": [
    {
     "name": "stdout",
     "output_type": "stream",
     "text": [
      "Le nombre de tests de laboratoire qu'un patient a subi peut aller de 1 à 132\n"
     ]
    }
   ],
   "source": [
    "print('Le nombre de tests de laboratoire qu\\'un patient a subi peut aller de',df2.NUM_LAB_PROCEDURES.min(),'à',df2.NUM_LAB_PROCEDURES.max())"
   ]
  },
  {
   "cell_type": "markdown",
   "metadata": {},
   "source": [
    "#### 11. NUM_PROCEDURES: Nombre de procédures (autres que les tests de laboratoire) effectuées pendant la rencontre"
   ]
  },
  {
   "cell_type": "code",
   "execution_count": 41,
   "metadata": {},
   "outputs": [
    {
     "data": {
      "text/plain": [
       "0    10273\n",
       "1     5659\n",
       "2     3426\n",
       "3     2530\n",
       "6     1471\n",
       "4     1176\n",
       "5      802\n",
       "Name: NUM_PROCEDURES, dtype: int64"
      ]
     },
     "execution_count": 41,
     "metadata": {},
     "output_type": "execute_result"
    }
   ],
   "source": [
    "df2.NUM_PROCEDURES.value_counts()"
   ]
  },
  {
   "cell_type": "markdown",
   "metadata": {},
   "source": [
    "Le nombre de procédures va de 0 à 5"
   ]
  },
  {
   "cell_type": "markdown",
   "metadata": {},
   "source": [
    "#### 12. NUM_MEDICATIONS: Nombre de noms génériques distincts administrés pendant la rencontre"
   ]
  },
  {
   "cell_type": "code",
   "execution_count": 42,
   "metadata": {},
   "outputs": [
    {
     "name": "stdout",
     "output_type": "stream",
     "text": [
      "Le nombre de médicaments varie d'un minimum de 1 à un maximum de 81\n"
     ]
    }
   ],
   "source": [
    "print('Le nombre de médicaments varie d\\'un minimum de',df2.NUM_MEDICATIONS.min(),'à un maximum de',df2.NUM_MEDICATIONS.max())"
   ]
  },
  {
   "cell_type": "markdown",
   "metadata": {},
   "source": [
    "#### 13. NUMBER_OUTPATIENT: Nombre de visites ambulatoires du patient dans l'année précédant la rencontre\n",
    "\n",
    "#### 14. NUMBER_EMERGENCY : Nombre de visites d'urgence du patient dans l'année précédant la rencontre\n",
    "\n",
    "#### 15. NUMBER_INPATIENT: Nombre de visites hospitalières du patient dans l'année précédant la rencontre"
   ]
  },
  {
   "cell_type": "markdown",
   "metadata": {},
   "source": [
    "#### 16. DIAG_1: Le diagnostic principal (codé comme les trois premiers chiffres de la CIM9)\n",
    "\n",
    "#### 17. DIAG_2: Diagnostic secondaire (codé comme les trois premiers chiffres de la CIM9)\n",
    "\n",
    "#### 18. DIAG_3: Diagnostic secondaire supplémentaire (codé comme les trois premiers chiffres de la CIM9)"
   ]
  },
  {
   "cell_type": "code",
   "execution_count": 43,
   "metadata": {},
   "outputs": [],
   "source": [
    "df2 = df2.reset_index(drop = True )"
   ]
  },
  {
   "cell_type": "code",
   "execution_count": 44,
   "metadata": {},
   "outputs": [],
   "source": [
    "diag_cols = ['DIAG_1','DIAG_2','DIAG_3']"
   ]
  },
  {
   "cell_type": "code",
   "execution_count": 45,
   "metadata": {},
   "outputs": [
    {
     "data": {
      "text/plain": [
       "(69, 86)"
      ]
     },
     "execution_count": 45,
     "metadata": {},
     "output_type": "execute_result"
    }
   ],
   "source": [
    "ord('E'), ord('V')"
   ]
  },
  {
   "cell_type": "code",
   "execution_count": 46,
   "metadata": {},
   "outputs": [],
   "source": [
    "for i in diag_cols:\n",
    "    for j in range(len(df2[i])):\n",
    "        if str(df2.loc[j, i])[:3] == '250':\n",
    "            df2.loc[j, i] = 'Diabetes'\n",
    "        elif ord(str(df2.loc[j, i])[0]) in range(69, 87):\n",
    "            df2.loc[j, i] = 'External causes of injury'\n",
    "        elif df2.loc[j, i] == '?':\n",
    "            df2.loc[j, i] = 'Missing'\n",
    "        else:\n",
    "            x = float(df2.loc[j, i])\n",
    "            if x in range(390, 460) or x == 785:\n",
    "                df2.loc[j, i] = 'Circulatory'\n",
    "            elif x in range(460, 520) or x == 786:\n",
    "                df2.loc[j, i] = 'Respiratory'\n",
    "            elif x in range(520, 580) or x == 787:\n",
    "                df2.loc[j, i] = 'Digestive'\n",
    "            elif x in range(800, 1000):\n",
    "                df2.loc[j, i] = 'Injury and Poisoning'\n",
    "            elif x in range(710, 740):\n",
    "                df2.loc[j, i] = 'Musculoskeletal System and Connective Tissue'\n",
    "            elif x in range(580, 630) or x == 788:\n",
    "                df2.loc[j, i] = 'Genitourinary'\n",
    "            elif x in range(140, 230):\n",
    "                df2.loc[j, i] = 'Neoplasms'\n",
    "            elif x in [780, 781, 784] or x in range(790, 800):\n",
    "                df2.loc[j, i] = 'Other Symptoms'\n",
    "            elif x in range(240, 280):\n",
    "                df2.loc[j, i] = 'Endocrine, Nutritional, Metabolic, Immunity'\n",
    "            elif x in range(680, 710) or x == 782:\n",
    "                df2.loc[j, i] = 'Skin and Subcutaneous Tissue'\n",
    "            elif x in range(1, 140):\n",
    "                df2.loc[j, i] = 'Infectious and Parasitic'\n",
    "            elif x in range(290, 320):\n",
    "                df2.loc[j, i] = 'Mental Disorders'\n",
    "            elif x in range(280, 290):\n",
    "                df2.loc[j, i] = 'Blood and Blood-Forming Organs'\n",
    "            elif x in range(320, 360):\n",
    "                df2.loc[j, i] = 'Nervous'\n",
    "            elif x in range(630, 680):\n",
    "                df2.loc[j, i] = 'Pregnancy, Childbirth'\n",
    "            elif x in range(360, 390):\n",
    "                df2.loc[j, i] = 'Sense Organs'\n",
    "            else:\n",
    "                df2.loc[j, i] = 'Congenital Anomalies'"
   ]
  },
  {
   "cell_type": "code",
   "execution_count": 47,
   "metadata": {},
   "outputs": [],
   "source": [
    "for i in range(len(df2['DIAG_2'])):\n",
    "    if df2.loc[i, 'DIAG_2'] == 'Missing':\n",
    "        if df2.loc[i, 'DIAG_1'] != 'Missing':\n",
    "            df2.loc[i, 'DIAG_2'] = 'Not Required'"
   ]
  },
  {
   "cell_type": "code",
   "execution_count": 48,
   "metadata": {},
   "outputs": [],
   "source": [
    "for i in range(len(df2['DIAG_3'])):\n",
    "    if df2.loc[i, 'DIAG_3'] == 'Missing':\n",
    "        if df2.loc[i, 'DIAG_2'] == 'Not Required' or df2.loc[i, 'DIAG_2'] != 'Missing':\n",
    "            df2.loc[i, 'DIAG_3'] = 'Not Required'"
   ]
  },
  {
   "cell_type": "code",
   "execution_count": 49,
   "metadata": {},
   "outputs": [
    {
     "data": {
      "text/html": [
       "<div>\n",
       "<style scoped>\n",
       "    .dataframe tbody tr th:only-of-type {\n",
       "        vertical-align: middle;\n",
       "    }\n",
       "\n",
       "    .dataframe tbody tr th {\n",
       "        vertical-align: top;\n",
       "    }\n",
       "\n",
       "    .dataframe thead th {\n",
       "        text-align: right;\n",
       "    }\n",
       "</style>\n",
       "<table border=\"1\" class=\"dataframe\">\n",
       "  <thead>\n",
       "    <tr style=\"text-align: right;\">\n",
       "      <th></th>\n",
       "      <th>DIAG_1</th>\n",
       "      <th>DIAG_2</th>\n",
       "      <th>DIAG_3</th>\n",
       "    </tr>\n",
       "  </thead>\n",
       "  <tbody>\n",
       "    <tr>\n",
       "      <td>Blood and Blood-Forming Organs</td>\n",
       "      <td>282</td>\n",
       "      <td>701</td>\n",
       "      <td>619</td>\n",
       "    </tr>\n",
       "    <tr>\n",
       "      <td>Circulatory</td>\n",
       "      <td>7623</td>\n",
       "      <td>8110</td>\n",
       "      <td>7647</td>\n",
       "    </tr>\n",
       "    <tr>\n",
       "      <td>Congenital Anomalies</td>\n",
       "      <td>210</td>\n",
       "      <td>146</td>\n",
       "      <td>110</td>\n",
       "    </tr>\n",
       "    <tr>\n",
       "      <td>Diabetes</td>\n",
       "      <td>2183</td>\n",
       "      <td>2918</td>\n",
       "      <td>4339</td>\n",
       "    </tr>\n",
       "    <tr>\n",
       "      <td>Digestive</td>\n",
       "      <td>2244</td>\n",
       "      <td>1090</td>\n",
       "      <td>951</td>\n",
       "    </tr>\n",
       "    <tr>\n",
       "      <td>Endocrine, Nutritional, Metabolic, Immunity</td>\n",
       "      <td>694</td>\n",
       "      <td>2120</td>\n",
       "      <td>2344</td>\n",
       "    </tr>\n",
       "    <tr>\n",
       "      <td>External causes of injury</td>\n",
       "      <td>243</td>\n",
       "      <td>660</td>\n",
       "      <td>1382</td>\n",
       "    </tr>\n",
       "    <tr>\n",
       "      <td>Genitourinary</td>\n",
       "      <td>1191</td>\n",
       "      <td>1804</td>\n",
       "      <td>1583</td>\n",
       "    </tr>\n",
       "    <tr>\n",
       "      <td>Infectious and Parasitic</td>\n",
       "      <td>557</td>\n",
       "      <td>472</td>\n",
       "      <td>433</td>\n",
       "    </tr>\n",
       "    <tr>\n",
       "      <td>Injury and Poisoning</td>\n",
       "      <td>1801</td>\n",
       "      <td>610</td>\n",
       "      <td>488</td>\n",
       "    </tr>\n",
       "    <tr>\n",
       "      <td>Mental Disorders</td>\n",
       "      <td>539</td>\n",
       "      <td>662</td>\n",
       "      <td>776</td>\n",
       "    </tr>\n",
       "    <tr>\n",
       "      <td>Musculoskeletal System and Connective Tissue</td>\n",
       "      <td>1613</td>\n",
       "      <td>553</td>\n",
       "      <td>560</td>\n",
       "    </tr>\n",
       "    <tr>\n",
       "      <td>Neoplasms</td>\n",
       "      <td>825</td>\n",
       "      <td>646</td>\n",
       "      <td>441</td>\n",
       "    </tr>\n",
       "    <tr>\n",
       "      <td>Nervous</td>\n",
       "      <td>240</td>\n",
       "      <td>323</td>\n",
       "      <td>385</td>\n",
       "    </tr>\n",
       "    <tr>\n",
       "      <td>Other Symptoms</td>\n",
       "      <td>680</td>\n",
       "      <td>638</td>\n",
       "      <td>621</td>\n",
       "    </tr>\n",
       "    <tr>\n",
       "      <td>Pregnancy, Childbirth</td>\n",
       "      <td>229</td>\n",
       "      <td>149</td>\n",
       "      <td>97</td>\n",
       "    </tr>\n",
       "    <tr>\n",
       "      <td>Respiratory</td>\n",
       "      <td>3441</td>\n",
       "      <td>2634</td>\n",
       "      <td>1802</td>\n",
       "    </tr>\n",
       "    <tr>\n",
       "      <td>Sense Organs</td>\n",
       "      <td>60</td>\n",
       "      <td>40</td>\n",
       "      <td>60</td>\n",
       "    </tr>\n",
       "    <tr>\n",
       "      <td>Skin and Subcutaneous Tissue</td>\n",
       "      <td>682</td>\n",
       "      <td>1061</td>\n",
       "      <td>699</td>\n",
       "    </tr>\n",
       "  </tbody>\n",
       "</table>\n",
       "</div>"
      ],
      "text/plain": [
       "                                              DIAG_1  DIAG_2  DIAG_3\n",
       "Blood and Blood-Forming Organs                   282     701     619\n",
       "Circulatory                                     7623    8110    7647\n",
       "Congenital Anomalies                             210     146     110\n",
       "Diabetes                                        2183    2918    4339\n",
       "Digestive                                       2244    1090     951\n",
       "Endocrine, Nutritional, Metabolic, Immunity      694    2120    2344\n",
       "External causes of injury                        243     660    1382\n",
       "Genitourinary                                   1191    1804    1583\n",
       "Infectious and Parasitic                         557     472     433\n",
       "Injury and Poisoning                            1801     610     488\n",
       "Mental Disorders                                 539     662     776\n",
       "Musculoskeletal System and Connective Tissue    1613     553     560\n",
       "Neoplasms                                        825     646     441\n",
       "Nervous                                          240     323     385\n",
       "Other Symptoms                                   680     638     621\n",
       "Pregnancy, Childbirth                            229     149      97\n",
       "Respiratory                                     3441    2634    1802\n",
       "Sense Organs                                      60      40      60\n",
       "Skin and Subcutaneous Tissue                     682    1061     699"
      ]
     },
     "execution_count": 49,
     "metadata": {},
     "output_type": "execute_result"
    }
   ],
   "source": [
    "df3 = pd.DataFrame(df2['DIAG_1'].value_counts())\n",
    "df4 = df3.merge(pd.DataFrame(df2['DIAG_2'].value_counts()), how = 'outer', left_index = True, right_index = True)\n",
    "df4.merge(pd.DataFrame(df2['DIAG_3'].value_counts()), how = 'outer', left_index = True, right_index = True)"
   ]
  },
  {
   "cell_type": "code",
   "execution_count": 50,
   "metadata": {},
   "outputs": [
    {
     "data": {
      "text/plain": [
       "0"
      ]
     },
     "execution_count": 50,
     "metadata": {},
     "output_type": "execute_result"
    }
   ],
   "source": [
    "len(df2[df2['DIAG_1'] == 'Missing'])"
   ]
  },
  {
   "cell_type": "markdown",
   "metadata": {},
   "source": [
    "#### 19. NUMBER_DIAGNOSES: Nombre de diagnostics saisis dans le système"
   ]
  },
  {
   "cell_type": "code",
   "execution_count": 51,
   "metadata": {},
   "outputs": [
    {
     "data": {
      "text/plain": [
       "<matplotlib.axes._subplots.AxesSubplot at 0x29f9ab34f48>"
      ]
     },
     "execution_count": 51,
     "metadata": {},
     "output_type": "execute_result"
    },
    {
     "data": {
      "image/png": "[encoded data removed]",
      "text/plain": [
       "<Figure size 432x288 with 1 Axes>"
      ]
     },
     "metadata": {
      "needs_background": "light"
     },
     "output_type": "display_data"
    }
   ],
   "source": [
    "sns.countplot(df2.NUMBER_DIAGNOSES)"
   ]
  },
  {
   "cell_type": "markdown",
   "metadata": {},
   "source": [
    "Le nombre de diagnostics saisis dans le système va de 1 à 16."
   ]
  },
  {
   "cell_type": "markdown",
   "metadata": {},
   "source": [
    "#### 20. MAX_GLU_SERUM: Indique la plage du résultat ou si le test n'a pas été effectué.\n",
    "\n",
    "Valeurs: \"> 200\", \"> 300\", \"normal\" et \"None\" si non mesuré   "
   ]
  },
  {
   "cell_type": "code",
   "execution_count": 52,
   "metadata": {},
   "outputs": [
    {
     "data": {
      "text/plain": [
       "None    25335\n",
       "Norm        2\n",
       "Name: MAX_GLU_SERUM, dtype: int64"
      ]
     },
     "execution_count": 52,
     "metadata": {},
     "output_type": "execute_result"
    }
   ],
   "source": [
    "df2.MAX_GLU_SERUM.value_counts()"
   ]
  },
  {
   "cell_type": "markdown",
   "metadata": {},
   "source": [
    "#### 21. A1CRESULT: Indique la plage du résultat ou si le test n'a pas été effectué."
   ]
  },
  {
   "cell_type": "code",
   "execution_count": 53,
   "metadata": {},
   "outputs": [
    {
     "data": {
      "text/plain": [
       "None    21217\n",
       ">8       1914\n",
       "Norm     1122\n",
       ">7       1084\n",
       "Name: A1CRESULT, dtype: int64"
      ]
     },
     "execution_count": 53,
     "metadata": {},
     "output_type": "execute_result"
    }
   ],
   "source": [
    "df2.A1CRESULT.value_counts()"
   ]
  },
  {
   "cell_type": "markdown",
   "metadata": {},
   "source": [
    "Valeurs: \"> 8\" si le résultat est supérieur à 8%\n",
    "    \n",
    "         «> 7» si le résultat est supérieur à 7% mais inférieur à 8%\n",
    "        \n",
    "         «Normal» si le résultat est inférieur à 7%\n",
    "        \n",
    "         «Aucun» s'il n'est pas mesuré."
   ]
  },
  {
   "cell_type": "markdown",
   "metadata": {},
   "source": [
    "#### 22. caractéristiques pour les médicaments :\n",
    "    \n",
    "Pour les noms génériques : METFORMIN, REPAGLINIDE, NATEGLINIDE, CHLORPROPAMIDE, GLIMEPIRIDE, ACETOHEXAMIDE, GLIPIZIDE, GLYBURIDE, TOLBUTAMIDE, PIOGLITAZONE, ROSIGLITAZONE, ACARBOSE, MIGLITOL, TROGLITAZONE, TOLAZAMIDE, EXAMIDE, CITOGLIPTON, INSULIN, GLYBURIDE_METFORMIN, GLIPIZIDE_METFORMIN, GLIMEPIRIDE_PIOGLITAZONE, METFORMIN_ROSIGLITAZONE, et METFORMIN_PIOGLITAZONE"
   ]
  },
  {
   "cell_type": "markdown",
   "metadata": {},
   "source": [
    "La fonction indique si le médicament a été prescrit ou s'il y a eu un changement de posologie.\n",
    "\n",
    "Valeurs: «up» si la posologie a été augmentée pendant la rencontre\n",
    "\n",
    "     «Down» si le dosage a été diminué\n",
    "\n",
    "     «Stable» si la posologie n'a pas changé\n",
    "\n",
    "     «Non» si le médicament n'a pas été prescrit"
   ]
  },
  {
   "cell_type": "code",
   "execution_count": 54,
   "metadata": {},
   "outputs": [
    {
     "name": "stdout",
     "output_type": "stream",
     "text": [
      "METFORMIN ['No' 'Steady' 'Up' 'Down']\n",
      "REPAGLINIDE ['No' 'Steady' 'Up' 'Down']\n",
      "NATEGLINIDE ['No' 'Steady' 'Down' 'Up']\n",
      "CHLORPROPAMIDE ['No' 'Steady']\n",
      "GLIMEPIRIDE ['No' 'Steady' 'Up' 'Down']\n",
      "ACETOHEXAMIDE ['No']\n",
      "GLIPIZIDE ['No' 'Steady' 'Down' 'Up']\n",
      "GLYBURIDE ['No' 'Steady' 'Up' 'Down']\n",
      "TOLBUTAMIDE ['No']\n",
      "PIOGLITAZONE ['No' 'Up' 'Steady' 'Down']\n",
      "ROSIGLITAZONE ['No' 'Steady' 'Up' 'Down']\n",
      "ACARBOSE ['No' 'Steady' 'Up' 'Down']\n",
      "MIGLITOL ['No' 'Steady' 'Up' 'Down']\n",
      "TROGLITAZONE ['No']\n",
      "TOLAZAMIDE ['No' 'Steady']\n",
      "EXAMIDE ['No']\n",
      "CITOGLIPTON ['No']\n",
      "INSULIN ['Steady' 'No' 'Up' 'Down']\n",
      "GLYBURIDE_METFORMIN ['No' 'Steady' 'Up' 'Down']\n",
      "GLIPIZIDE_METFORMIN ['No' 'Steady']\n",
      "GLIMEPIRIDE_PIOGLITAZONE ['No']\n",
      "METFORMIN_ROSIGLITAZONE ['No']\n",
      "METFORMIN_PIOGLITAZONE ['No' 'Steady']\n"
     ]
    }
   ],
   "source": [
    "meds = ['METFORMIN', 'REPAGLINIDE', 'NATEGLINIDE', 'CHLORPROPAMIDE',\n",
    "       'GLIMEPIRIDE', 'ACETOHEXAMIDE', 'GLIPIZIDE', 'GLYBURIDE', 'TOLBUTAMIDE',\n",
    "       'PIOGLITAZONE', 'ROSIGLITAZONE', 'ACARBOSE', 'MIGLITOL', 'TROGLITAZONE',\n",
    "       'TOLAZAMIDE', 'EXAMIDE', 'CITOGLIPTON', 'INSULIN',\n",
    "       'GLYBURIDE_METFORMIN', 'GLIPIZIDE_METFORMIN',\n",
    "       'GLIMEPIRIDE_PIOGLITAZONE', 'METFORMIN_ROSIGLITAZONE',\n",
    "       'METFORMIN_PIOGLITAZONE']\n",
    "\n",
    "for i in meds:\n",
    "       print(i, df2[i].unique())"
   ]
  },
  {
   "cell_type": "markdown",
   "metadata": {},
   "source": [
    "Nous pouvons supprimer examide, citoglipton et metformin-rosiglitazone car ils ne sont pas prescrit à aucun patient."
   ]
  },
  {
   "cell_type": "code",
   "execution_count": 55,
   "metadata": {},
   "outputs": [],
   "source": [
    "df2.drop(['EXAMIDE', 'CITOGLIPTON','METFORMIN_ROSIGLITAZONE'], axis = 1, inplace = True)"
   ]
  },
  {
   "cell_type": "code",
   "execution_count": 56,
   "metadata": {},
   "outputs": [],
   "source": [
    "meds = ['METFORMIN', 'REPAGLINIDE', 'NATEGLINIDE', 'CHLORPROPAMIDE',\n",
    "       'GLIMEPIRIDE', 'ACETOHEXAMIDE', 'GLIPIZIDE', 'GLYBURIDE', 'TOLBUTAMIDE',\n",
    "       'PIOGLITAZONE', 'ROSIGLITAZONE', 'ACARBOSE', 'MIGLITOL', 'TROGLITAZONE',\n",
    "       'TOLAZAMIDE', 'INSULIN', 'GLYBURIDE_METFORMIN', 'GLIPIZIDE_METFORMIN',\n",
    "       'GLIMEPIRIDE_PIOGLITAZONE', 'METFORMIN_PIOGLITAZONE']"
   ]
  },
  {
   "cell_type": "code",
   "execution_count": 57,
   "metadata": {},
   "outputs": [],
   "source": [
    "# Les médicaments peuvent être codés comme ci-dessous\n",
    "for i in meds:\n",
    "    df2[i] = df2[i].replace({'No' : -2,\n",
    "                           'Down' : -1,\n",
    "                           'Steady' : 0,\n",
    "                           'Up' : 1})"
   ]
  },
  {
   "cell_type": "code",
   "execution_count": 58,
   "metadata": {},
   "outputs": [],
   "source": [
    "for i in meds:\n",
    "    df2[i] = df2[i].astype('int64')"
   ]
  },
  {
   "cell_type": "markdown",
   "metadata": {},
   "source": [
    "#### 23. CHANGE :  Indique s'il y a eu un changement dans les médicaments diabétiques (soit la posologie, soit le nom générique)"
   ]
  },
  {
   "cell_type": "code",
   "execution_count": 59,
   "metadata": {},
   "outputs": [
    {
     "data": {
      "text/plain": [
       "Ch    13823\n",
       "No    11514\n",
       "Name: CHANGE, dtype: int64"
      ]
     },
     "execution_count": 59,
     "metadata": {},
     "output_type": "execute_result"
    }
   ],
   "source": [
    "df2.CHANGE.value_counts()"
   ]
  },
  {
   "cell_type": "code",
   "execution_count": 60,
   "metadata": {},
   "outputs": [],
   "source": [
    "df2['CHANGE'] = df2['CHANGE'].replace({'No' : 0, 'Ch' : 1})"
   ]
  },
  {
   "cell_type": "markdown",
   "metadata": {},
   "source": [
    "#### 24. DIABETESMED : Indique si un médicament diabétique a été prescrit."
   ]
  },
  {
   "cell_type": "code",
   "execution_count": 61,
   "metadata": {},
   "outputs": [
    {
     "data": {
      "text/plain": [
       "Yes    20790\n",
       "No      4547\n",
       "Name: DIABETESMED, dtype: int64"
      ]
     },
     "execution_count": 61,
     "metadata": {},
     "output_type": "execute_result"
    }
   ],
   "source": [
    "df2.DIABETESMED.value_counts()"
   ]
  },
  {
   "cell_type": "code",
   "execution_count": 62,
   "metadata": {},
   "outputs": [],
   "source": [
    "df2['DIABETESMED'] = df2['DIABETESMED'].replace({'Yes' : 1, 'No' : 0})"
   ]
  },
  {
   "cell_type": "markdown",
   "metadata": {},
   "source": [
    "#### 25. READMITTED: Outcome variable\n",
    "\n",
    "Le résultat que nous examinons est de savoir si le patient est réadmis à l'hôpital dans les 30 jours ou non."
   ]
  },
  {
   "cell_type": "code",
   "execution_count": 63,
   "metadata": {},
   "outputs": [
    {
     "data": {
      "text/plain": [
       "NO     14044\n",
       ">30     8539\n",
       "<30     2754\n",
       "Name: READMITTED, dtype: int64"
      ]
     },
     "execution_count": 63,
     "metadata": {},
     "output_type": "execute_result"
    }
   ],
   "source": [
    "df2.READMITTED.value_counts()"
   ]
  },
  {
   "cell_type": "markdown",
   "metadata": {},
   "source": [
    "Le résultat a en fait des catégories <30,> 30 et Aucune réadmission. notre problème, nous allons le convertir en 2 catégories, c'est-à-dire pas de réadmission ou de réadmission dans 30 jours"
   ]
  },
  {
   "cell_type": "code",
   "execution_count": 64,
   "metadata": {},
   "outputs": [],
   "source": [
    "df2['READMITTED'] = df2['READMITTED'].replace('>30', 'NO')\n",
    "df2['READMITTED']= df2['READMITTED'].replace( {'NO': 0, '<30': 1} ).astype(int)"
   ]
  },
  {
   "cell_type": "code",
   "execution_count": 65,
   "metadata": {},
   "outputs": [],
   "source": [
    "df2.reset_index(drop = True, inplace = True)"
   ]
  },
  {
   "cell_type": "markdown",
   "metadata": {},
   "source": [
    "### (ADDITIONAL) Création de nouvelles fonctionnalités et suppression des fonctionnalités redondantes\n",
    "\n",
    "#### 1. Visites de l'année précédente:\n",
    "‘NUMBER_OUTPATIENT’, ‘NUMBER_EMERGENCY’, ‘NUMBER_INPATIENT’  ont été combinés en les additionnant pour obtenir le nombre total de visites du patient au cours de l'année précédente, puis en supprimant les fonctionnalités de combinaison."
   ]
  },
  {
   "cell_type": "code",
   "execution_count": 66,
   "metadata": {},
   "outputs": [],
   "source": [
    "df2['preceding_year_visits']=df2['NUMBER_OUTPATIENT']+df2['NUMBER_EMERGENCY']+df2['NUMBER_INPATIENT']"
   ]
  },
  {
   "cell_type": "code",
   "execution_count": 67,
   "metadata": {},
   "outputs": [],
   "source": [
    "# Dropping ‘number_outpatient’, ‘number_emergency’, ‘number_inpatient’\n",
    "df2 = df2.drop(columns=['NUMBER_OUTPATIENT', 'NUMBER_EMERGENCY','NUMBER_INPATIENT'])"
   ]
  },
  {
   "cell_type": "markdown",
   "metadata": {},
   "source": [
    "#### 2. Nombre de changements de médicaments"
   ]
  },
  {
   "cell_type": "code",
   "execution_count": 68,
   "metadata": {},
   "outputs": [],
   "source": [
    "df2['number_changes'] = np.nan\n",
    "for i in range(len(df2)):\n",
    "    n = 0\n",
    "    for j in meds:\n",
    "        if df2.loc[i, j] == -1 or df2.loc[i, j] == 1:\n",
    "            n += 1\n",
    "    df2.loc[i, 'number_changes'] = n"
   ]
  },
  {
   "cell_type": "code",
   "execution_count": 69,
   "metadata": {},
   "outputs": [
    {
     "data": {
      "text/plain": [
       "0.0    16388\n",
       "1.0     8417\n",
       "2.0      485\n",
       "3.0       44\n",
       "4.0        3\n",
       "Name: number_changes, dtype: int64"
      ]
     },
     "execution_count": 69,
     "metadata": {},
     "output_type": "execute_result"
    }
   ],
   "source": [
    "df2['number_changes'].value_counts()"
   ]
  },
  {
   "cell_type": "markdown",
   "metadata": {},
   "source": [
    "#### 3. Nombre de médicaments diabétiques"
   ]
  },
  {
   "cell_type": "code",
   "execution_count": 70,
   "metadata": {},
   "outputs": [
    {
     "data": {
      "text/plain": [
       "1    11618\n",
       "2     6017\n",
       "0     4547\n",
       "3     2597\n",
       "4      535\n",
       "5       22\n",
       "6        1\n",
       "Name: number_diab_meds, dtype: int64"
      ]
     },
     "execution_count": 70,
     "metadata": {},
     "output_type": "execute_result"
    }
   ],
   "source": [
    "df2['number_diab_meds'] = np.nan\n",
    "for i in range(len(df2)):\n",
    "    n = 0\n",
    "    for j in meds:\n",
    "        if df2.loc[i, j] != -2:\n",
    "            n += 1\n",
    "    df2.loc[i, 'number_diab_meds'] = n\n",
    "df2.number_diab_meds=df2.number_diab_meds.astype('int64')\n",
    "df2['number_diab_meds'].value_counts()"
   ]
  },
  {
   "cell_type": "markdown",
   "metadata": {},
   "source": [
    "#### 4. Insulin_treatment"
   ]
  },
  {
   "cell_type": "code",
   "execution_count": 71,
   "metadata": {},
   "outputs": [],
   "source": [
    "df2['insulin_treatment'] = np.nan"
   ]
  },
  {
   "cell_type": "code",
   "execution_count": 72,
   "metadata": {},
   "outputs": [
    {
     "data": {
      "text/plain": [
       "insulin_only     8128\n",
       "insulin_combo    7511\n",
       "other_meds       5151\n",
       "no_med           4547\n",
       "Name: insulin_treatment, dtype: int64"
      ]
     },
     "execution_count": 72,
     "metadata": {},
     "output_type": "execute_result"
    }
   ],
   "source": [
    "for i in range(len(df2)):\n",
    "    if df2.loc[i, 'INSULIN'] != -2 and df2.loc[i, 'number_diab_meds'] == 1:\n",
    "        df2.loc[i, 'insulin_treatment'] = 'insulin_only'\n",
    "    elif df2.loc[i, 'INSULIN'] != -2 and df2.loc[i, 'number_diab_meds'] > 1:\n",
    "        df2.loc[i, 'insulin_treatment'] = 'insulin_combo'\n",
    "    elif df2.loc[i, 'INSULIN'] == -2 and df2.loc[i, 'number_diab_meds'] == 0:\n",
    "        df2.loc[i, 'insulin_treatment'] = 'no_med'\n",
    "    else:\n",
    "        df2.loc[i, 'insulin_treatment'] = 'other_meds'\n",
    "df2['insulin_treatment'].value_counts()"
   ]
  },
  {
   "cell_type": "markdown",
   "metadata": {},
   "source": [
    "number_diab_meds a été créé pour faire le traitement de l'insuline de la colonne, par conséquent nous le déposons"
   ]
  },
  {
   "cell_type": "code",
   "execution_count": 73,
   "metadata": {},
   "outputs": [],
   "source": [
    "df2=df2.drop('number_diab_meds',1)\n",
    "df2.reset_index(drop = True, inplace = True)"
   ]
  },
  {
   "cell_type": "markdown",
   "metadata": {},
   "source": [
    "### Tests statistiques"
   ]
  },
  {
   "cell_type": "code",
   "execution_count": 74,
   "metadata": {},
   "outputs": [],
   "source": [
    "# Caractéristiques numériques\n",
    "num_cols = ['AGE_INT', 'TIME_IN_HOSPITAL', 'NUM_LAB_PROCEDURES', 'NUM_PROCEDURES', 'NUM_MEDICATIONS',\n",
    "            'NUMBER_DIAGNOSES','preceding_year_visits', 'number_changes']"
   ]
  },
  {
   "cell_type": "code",
   "execution_count": 75,
   "metadata": {},
   "outputs": [],
   "source": [
    "# Caractéristiques catégoriques\n",
    "cat_cols = ['RACE', 'GENDER', 'ADMISSION_TYPE', 'DISCHARGE_DISPOSITION', 'ADMISSION_SOURCE',\n",
    "            'DIAG_1', 'DIAG_2', 'DIAG_3', 'MAX_GLU_SERUM', 'A1CRESULT', 'METFORMIN', 'REPAGLINIDE', \n",
    "            'NATEGLINIDE', 'CHLORPROPAMIDE', 'GLIMEPIRIDE', 'ACETOHEXAMIDE', 'GLIPIZIDE', 'GLYBURIDE', \n",
    "            'tolbutamide', 'pioglitazone', 'rosiglitazone', 'acarbose', 'miglitol', 'troglitazone',\n",
    "            'TOLBUTAMIDE', 'INSULIN', 'GLYBURIDE_METFORMIN', 'GLIPIZIDE_METFORMIN', \n",
    "            'GLIMEPIRIDE_PIOGLITAZONE', 'METFORMIN_ROSIGLITAZONE', 'METFORMIN_PIOGLITAZONE', \n",
    "            'CHANGE', 'DIABETESMED', 'insulin_treatment']"
   ]
  },
  {
   "cell_type": "code",
   "execution_count": 76,
   "metadata": {},
   "outputs": [
    {
     "data": {
      "text/plain": [
       "(25337, 43)"
      ]
     },
     "execution_count": 76,
     "metadata": {},
     "output_type": "execute_result"
    }
   ],
   "source": [
    "df2.shape"
   ]
  },
  {
   "cell_type": "code",
   "execution_count": 77,
   "metadata": {},
   "outputs": [
    {
     "data": {
      "text/plain": [
       "42"
      ]
     },
     "execution_count": 77,
     "metadata": {},
     "output_type": "execute_result"
    }
   ],
   "source": [
    "len(num_cols)+len(cat_cols)"
   ]
  },
  {
   "cell_type": "markdown",
   "metadata": {},
   "source": [
    "#### Chi-2 pour les catégoriques  vs catégoriques et one way anova pour les catégoriques vs numériques\n",
    "\n",
    "Pour voir si les fonctionnalités sont significatives par rapport à la variable cible (readmitted)"
   ]
  },
  {
   "cell_type": "code",
   "execution_count": 78,
   "metadata": {},
   "outputs": [
    {
     "data": {
      "text/html": [
       "<div>\n",
       "<style scoped>\n",
       "    .dataframe tbody tr th:only-of-type {\n",
       "        vertical-align: middle;\n",
       "    }\n",
       "\n",
       "    .dataframe tbody tr th {\n",
       "        vertical-align: top;\n",
       "    }\n",
       "\n",
       "    .dataframe thead th {\n",
       "        text-align: right;\n",
       "    }\n",
       "</style>\n",
       "<table border=\"1\" class=\"dataframe\">\n",
       "  <thead>\n",
       "    <tr style=\"text-align: right;\">\n",
       "      <th></th>\n",
       "      <th>columns</th>\n",
       "      <th>p_value</th>\n",
       "      <th>significance</th>\n",
       "    </tr>\n",
       "  </thead>\n",
       "  <tbody>\n",
       "    <tr>\n",
       "      <td>39</td>\n",
       "      <td>READMITTED</td>\n",
       "      <td>0.000000e+00</td>\n",
       "      <td>Significant</td>\n",
       "    </tr>\n",
       "    <tr>\n",
       "      <td>40</td>\n",
       "      <td>preceding_year_visits</td>\n",
       "      <td>9.387277e-128</td>\n",
       "      <td>Significant</td>\n",
       "    </tr>\n",
       "    <tr>\n",
       "      <td>4</td>\n",
       "      <td>DISCHARGE_DISPOSITION</td>\n",
       "      <td>1.277504e-29</td>\n",
       "      <td>Significant</td>\n",
       "    </tr>\n",
       "    <tr>\n",
       "      <td>32</td>\n",
       "      <td>INSULIN</td>\n",
       "      <td>2.382848e-22</td>\n",
       "      <td>Significant</td>\n",
       "    </tr>\n",
       "    <tr>\n",
       "      <td>14</td>\n",
       "      <td>NUMBER_DIAGNOSES</td>\n",
       "      <td>4.713655e-22</td>\n",
       "      <td>Significant</td>\n",
       "    </tr>\n",
       "    <tr>\n",
       "      <td>42</td>\n",
       "      <td>insulin_treatment</td>\n",
       "      <td>2.864962e-19</td>\n",
       "      <td>Significant</td>\n",
       "    </tr>\n",
       "    <tr>\n",
       "      <td>7</td>\n",
       "      <td>MEDICAL_SPECIALTY</td>\n",
       "      <td>3.399076e-17</td>\n",
       "      <td>Significant</td>\n",
       "    </tr>\n",
       "    <tr>\n",
       "      <td>41</td>\n",
       "      <td>number_changes</td>\n",
       "      <td>4.351799e-17</td>\n",
       "      <td>Significant</td>\n",
       "    </tr>\n",
       "    <tr>\n",
       "      <td>38</td>\n",
       "      <td>DIABETESMED</td>\n",
       "      <td>6.021855e-14</td>\n",
       "      <td>Significant</td>\n",
       "    </tr>\n",
       "    <tr>\n",
       "      <td>37</td>\n",
       "      <td>CHANGE</td>\n",
       "      <td>3.972180e-13</td>\n",
       "      <td>Significant</td>\n",
       "    </tr>\n",
       "    <tr>\n",
       "      <td>11</td>\n",
       "      <td>DIAG_1</td>\n",
       "      <td>5.830308e-13</td>\n",
       "      <td>Significant</td>\n",
       "    </tr>\n",
       "    <tr>\n",
       "      <td>13</td>\n",
       "      <td>DIAG_3</td>\n",
       "      <td>5.561852e-11</td>\n",
       "      <td>Significant</td>\n",
       "    </tr>\n",
       "    <tr>\n",
       "      <td>6</td>\n",
       "      <td>TIME_IN_HOSPITAL</td>\n",
       "      <td>3.560013e-08</td>\n",
       "      <td>Significant</td>\n",
       "    </tr>\n",
       "    <tr>\n",
       "      <td>10</td>\n",
       "      <td>NUM_MEDICATIONS</td>\n",
       "      <td>3.950003e-06</td>\n",
       "      <td>Significant</td>\n",
       "    </tr>\n",
       "    <tr>\n",
       "      <td>12</td>\n",
       "      <td>DIAG_2</td>\n",
       "      <td>3.845994e-05</td>\n",
       "      <td>Significant</td>\n",
       "    </tr>\n",
       "    <tr>\n",
       "      <td>5</td>\n",
       "      <td>ADMISSION_SOURCE</td>\n",
       "      <td>1.367425e-03</td>\n",
       "      <td>Significant</td>\n",
       "    </tr>\n",
       "    <tr>\n",
       "      <td>17</td>\n",
       "      <td>METFORMIN</td>\n",
       "      <td>1.004162e-02</td>\n",
       "      <td>Significant</td>\n",
       "    </tr>\n",
       "    <tr>\n",
       "      <td>29</td>\n",
       "      <td>MIGLITOL</td>\n",
       "      <td>2.402984e-02</td>\n",
       "      <td>Significant</td>\n",
       "    </tr>\n",
       "    <tr>\n",
       "      <td>16</td>\n",
       "      <td>A1CRESULT</td>\n",
       "      <td>2.851582e-02</td>\n",
       "      <td>Significant</td>\n",
       "    </tr>\n",
       "    <tr>\n",
       "      <td>26</td>\n",
       "      <td>PIOGLITAZONE</td>\n",
       "      <td>2.855366e-02</td>\n",
       "      <td>Significant</td>\n",
       "    </tr>\n",
       "    <tr>\n",
       "      <td>8</td>\n",
       "      <td>NUM_LAB_PROCEDURES</td>\n",
       "      <td>5.692811e-02</td>\n",
       "      <td>Insignificant</td>\n",
       "    </tr>\n",
       "    <tr>\n",
       "      <td>2</td>\n",
       "      <td>AGE_INT</td>\n",
       "      <td>6.031671e-02</td>\n",
       "      <td>Insignificant</td>\n",
       "    </tr>\n",
       "    <tr>\n",
       "      <td>18</td>\n",
       "      <td>REPAGLINIDE</td>\n",
       "      <td>8.278125e-02</td>\n",
       "      <td>Insignificant</td>\n",
       "    </tr>\n",
       "    <tr>\n",
       "      <td>24</td>\n",
       "      <td>GLYBURIDE</td>\n",
       "      <td>1.020866e-01</td>\n",
       "      <td>Insignificant</td>\n",
       "    </tr>\n",
       "    <tr>\n",
       "      <td>36</td>\n",
       "      <td>METFORMIN_PIOGLITAZONE</td>\n",
       "      <td>2.086789e-01</td>\n",
       "      <td>Insignificant</td>\n",
       "    </tr>\n",
       "    <tr>\n",
       "      <td>34</td>\n",
       "      <td>GLIPIZIDE_METFORMIN</td>\n",
       "      <td>2.086789e-01</td>\n",
       "      <td>Insignificant</td>\n",
       "    </tr>\n",
       "    <tr>\n",
       "      <td>23</td>\n",
       "      <td>GLIPIZIDE</td>\n",
       "      <td>5.069747e-01</td>\n",
       "      <td>Insignificant</td>\n",
       "    </tr>\n",
       "    <tr>\n",
       "      <td>21</td>\n",
       "      <td>GLIMEPIRIDE</td>\n",
       "      <td>5.101057e-01</td>\n",
       "      <td>Insignificant</td>\n",
       "    </tr>\n",
       "    <tr>\n",
       "      <td>15</td>\n",
       "      <td>MAX_GLU_SERUM</td>\n",
       "      <td>5.208370e-01</td>\n",
       "      <td>Insignificant</td>\n",
       "    </tr>\n",
       "    <tr>\n",
       "      <td>28</td>\n",
       "      <td>ACARBOSE</td>\n",
       "      <td>5.234767e-01</td>\n",
       "      <td>Insignificant</td>\n",
       "    </tr>\n",
       "    <tr>\n",
       "      <td>19</td>\n",
       "      <td>NATEGLINIDE</td>\n",
       "      <td>5.251138e-01</td>\n",
       "      <td>Insignificant</td>\n",
       "    </tr>\n",
       "    <tr>\n",
       "      <td>9</td>\n",
       "      <td>NUM_PROCEDURES</td>\n",
       "      <td>5.700998e-01</td>\n",
       "      <td>Insignificant</td>\n",
       "    </tr>\n",
       "    <tr>\n",
       "      <td>3</td>\n",
       "      <td>ADMISSION_TYPE</td>\n",
       "      <td>6.691503e-01</td>\n",
       "      <td>Insignificant</td>\n",
       "    </tr>\n",
       "    <tr>\n",
       "      <td>20</td>\n",
       "      <td>CHLORPROPAMIDE</td>\n",
       "      <td>7.680758e-01</td>\n",
       "      <td>Insignificant</td>\n",
       "    </tr>\n",
       "    <tr>\n",
       "      <td>31</td>\n",
       "      <td>TOLAZAMIDE</td>\n",
       "      <td>8.417851e-01</td>\n",
       "      <td>Insignificant</td>\n",
       "    </tr>\n",
       "    <tr>\n",
       "      <td>1</td>\n",
       "      <td>GENDER</td>\n",
       "      <td>8.508377e-01</td>\n",
       "      <td>Insignificant</td>\n",
       "    </tr>\n",
       "    <tr>\n",
       "      <td>0</td>\n",
       "      <td>RACE</td>\n",
       "      <td>8.786289e-01</td>\n",
       "      <td>Insignificant</td>\n",
       "    </tr>\n",
       "    <tr>\n",
       "      <td>27</td>\n",
       "      <td>ROSIGLITAZONE</td>\n",
       "      <td>8.986886e-01</td>\n",
       "      <td>Insignificant</td>\n",
       "    </tr>\n",
       "    <tr>\n",
       "      <td>33</td>\n",
       "      <td>GLYBURIDE_METFORMIN</td>\n",
       "      <td>9.191034e-01</td>\n",
       "      <td>Insignificant</td>\n",
       "    </tr>\n",
       "    <tr>\n",
       "      <td>25</td>\n",
       "      <td>TOLBUTAMIDE</td>\n",
       "      <td>1.000000e+00</td>\n",
       "      <td>Insignificant</td>\n",
       "    </tr>\n",
       "    <tr>\n",
       "      <td>30</td>\n",
       "      <td>TROGLITAZONE</td>\n",
       "      <td>1.000000e+00</td>\n",
       "      <td>Insignificant</td>\n",
       "    </tr>\n",
       "    <tr>\n",
       "      <td>22</td>\n",
       "      <td>ACETOHEXAMIDE</td>\n",
       "      <td>1.000000e+00</td>\n",
       "      <td>Insignificant</td>\n",
       "    </tr>\n",
       "    <tr>\n",
       "      <td>35</td>\n",
       "      <td>GLIMEPIRIDE_PIOGLITAZONE</td>\n",
       "      <td>1.000000e+00</td>\n",
       "      <td>Insignificant</td>\n",
       "    </tr>\n",
       "  </tbody>\n",
       "</table>\n",
       "</div>"
      ],
      "text/plain": [
       "                     columns        p_value   significance\n",
       "39                READMITTED   0.000000e+00    Significant\n",
       "40     preceding_year_visits  9.387277e-128    Significant\n",
       "4      DISCHARGE_DISPOSITION   1.277504e-29    Significant\n",
       "32                   INSULIN   2.382848e-22    Significant\n",
       "14          NUMBER_DIAGNOSES   4.713655e-22    Significant\n",
       "42         insulin_treatment   2.864962e-19    Significant\n",
       "7          MEDICAL_SPECIALTY   3.399076e-17    Significant\n",
       "41            number_changes   4.351799e-17    Significant\n",
       "38               DIABETESMED   6.021855e-14    Significant\n",
       "37                    CHANGE   3.972180e-13    Significant\n",
       "11                    DIAG_1   5.830308e-13    Significant\n",
       "13                    DIAG_3   5.561852e-11    Significant\n",
       "6           TIME_IN_HOSPITAL   3.560013e-08    Significant\n",
       "10           NUM_MEDICATIONS   3.950003e-06    Significant\n",
       "12                    DIAG_2   3.845994e-05    Significant\n",
       "5           ADMISSION_SOURCE   1.367425e-03    Significant\n",
       "17                 METFORMIN   1.004162e-02    Significant\n",
       "29                  MIGLITOL   2.402984e-02    Significant\n",
       "16                 A1CRESULT   2.851582e-02    Significant\n",
       "26              PIOGLITAZONE   2.855366e-02    Significant\n",
       "8         NUM_LAB_PROCEDURES   5.692811e-02  Insignificant\n",
       "2                    AGE_INT   6.031671e-02  Insignificant\n",
       "18               REPAGLINIDE   8.278125e-02  Insignificant\n",
       "24                 GLYBURIDE   1.020866e-01  Insignificant\n",
       "36    METFORMIN_PIOGLITAZONE   2.086789e-01  Insignificant\n",
       "34       GLIPIZIDE_METFORMIN   2.086789e-01  Insignificant\n",
       "23                 GLIPIZIDE   5.069747e-01  Insignificant\n",
       "21               GLIMEPIRIDE   5.101057e-01  Insignificant\n",
       "15             MAX_GLU_SERUM   5.208370e-01  Insignificant\n",
       "28                  ACARBOSE   5.234767e-01  Insignificant\n",
       "19               NATEGLINIDE   5.251138e-01  Insignificant\n",
       "9             NUM_PROCEDURES   5.700998e-01  Insignificant\n",
       "3             ADMISSION_TYPE   6.691503e-01  Insignificant\n",
       "20            CHLORPROPAMIDE   7.680758e-01  Insignificant\n",
       "31                TOLAZAMIDE   8.417851e-01  Insignificant\n",
       "1                     GENDER   8.508377e-01  Insignificant\n",
       "0                       RACE   8.786289e-01  Insignificant\n",
       "27             ROSIGLITAZONE   8.986886e-01  Insignificant\n",
       "33       GLYBURIDE_METFORMIN   9.191034e-01  Insignificant\n",
       "25               TOLBUTAMIDE   1.000000e+00  Insignificant\n",
       "30              TROGLITAZONE   1.000000e+00  Insignificant\n",
       "22             ACETOHEXAMIDE   1.000000e+00  Insignificant\n",
       "35  GLIMEPIRIDE_PIOGLITAZONE   1.000000e+00  Insignificant"
      ]
     },
     "execution_count": 78,
     "metadata": {},
     "output_type": "execute_result"
    }
   ],
   "source": [
    "#Statistical Tests (Chi Square and Anova)\n",
    "\n",
    "p_val = []\n",
    "sig = []\n",
    "for i in df2.columns:\n",
    "    if i in num_cols:\n",
    "        stat, p = stats.f_oneway(df2[df2['READMITTED'] == 0][i], df2[df2['READMITTED'] == 1][i])\n",
    "    else:\n",
    "        ct = pd.crosstab(df2[i], df2['READMITTED'])\n",
    "        stat, p, dof, exp = stats.chi2_contingency(ct)\n",
    "    p_val.append(p)\n",
    "    if p < 0.05:\n",
    "        sig.append('Significant')\n",
    "    else:\n",
    "        sig.append(\"Insignificant\")\n",
    "stats_df = pd.DataFrame({\"columns\" : df2.columns, \"p_value\" : p_val, \"significance\" : sig})\n",
    "\n",
    "stats_df.sort_values(by='p_value',ascending = True)"
   ]
  },
  {
   "cell_type": "code",
   "execution_count": 79,
   "metadata": {},
   "outputs": [
    {
     "name": "stdout",
     "output_type": "stream",
     "text": [
      "Statiscally significant features are : \n",
      "\n",
      "0     DISCHARGE_DISPOSITION\n",
      "1          ADMISSION_SOURCE\n",
      "2          TIME_IN_HOSPITAL\n",
      "3         MEDICAL_SPECIALTY\n",
      "4           NUM_MEDICATIONS\n",
      "5                    DIAG_1\n",
      "6                    DIAG_2\n",
      "7                    DIAG_3\n",
      "8          NUMBER_DIAGNOSES\n",
      "9                 A1CRESULT\n",
      "10                METFORMIN\n",
      "11             PIOGLITAZONE\n",
      "12                 MIGLITOL\n",
      "13                  INSULIN\n",
      "14                   CHANGE\n",
      "15              DIABETESMED\n",
      "16               READMITTED\n",
      "17    preceding_year_visits\n",
      "18           number_changes\n",
      "19        insulin_treatment\n",
      "Name: columns, dtype: object\n"
     ]
    }
   ],
   "source": [
    "sig_cols = stats_df[stats_df['significance'] == 'Significant']['columns'].reset_index(drop = True)\n",
    "insig_cols = stats_df[stats_df['significance'] == 'Insignificant']['columns'].reset_index(drop = True)\n",
    "print('Statiscally significant features are :','\\n')\n",
    "print(sig_cols)"
   ]
  },
  {
   "cell_type": "markdown",
   "metadata": {},
   "source": [
    "Nous pouvons supprimer toutes ces variables"
   ]
  },
  {
   "cell_type": "code",
   "execution_count": 80,
   "metadata": {},
   "outputs": [],
   "source": [
    "df2 = df2.drop(['NATEGLINIDE','CHLORPROPAMIDE','ACETOHEXAMIDE',  'TOLBUTAMIDE',\n",
    "              'ACARBOSE', 'MIGLITOL',  'TROGLITAZONE',  'TOLAZAMIDE',\n",
    "              'GLYBURIDE_METFORMIN',  'GLIPIZIDE_METFORMIN',\n",
    "              'GLIMEPIRIDE_PIOGLITAZONE','METFORMIN_PIOGLITAZONE'],axis=1)"
   ]
  },
  {
   "cell_type": "markdown",
   "metadata": {},
   "source": [
    "CHANGE et number_change décrivent les mêmes informations et les deux sont significatives, nous en abandonnons une basée sur le fait que le nombre de changements est un peu plus significatif que le changement."
   ]
  },
  {
   "cell_type": "code",
   "execution_count": 81,
   "metadata": {},
   "outputs": [],
   "source": [
    "df2 = df2.drop(['CHANGE'],axis=1)"
   ]
  },
  {
   "cell_type": "code",
   "execution_count": 82,
   "metadata": {},
   "outputs": [
    {
     "data": {
      "text/plain": [
       "Emergency        17387\n",
       "Elective          7913\n",
       "Not Available       37\n",
       "Name: ADMISSION_TYPE, dtype: int64"
      ]
     },
     "execution_count": 82,
     "metadata": {},
     "output_type": "execute_result"
    }
   ],
   "source": [
    "df2['ADMISSION_TYPE'].value_counts()"
   ]
  },
  {
   "cell_type": "code",
   "execution_count": 83,
   "metadata": {},
   "outputs": [
    {
     "data": {
      "text/plain": [
       "Emergency                                        13287\n",
       "Referral                                          9637\n",
       "Transferred from another health care facility     2413\n",
       "Name: ADMISSION_SOURCE, dtype: int64"
      ]
     },
     "execution_count": 83,
     "metadata": {},
     "output_type": "execute_result"
    }
   ],
   "source": [
    "df2['ADMISSION_SOURCE'].value_counts()"
   ]
  },
  {
   "cell_type": "markdown",
   "metadata": {},
   "source": [
    "ADMISSION_SOURCE et ADMISSION_TYPE sont similaires car les détails de ADMISSION_TYPE sont présents dans l'identifiant de la source d'admission. Nous pouvons donc supprimer ADMISSION_TYPE et simplement conserver ADMISSION_SOURCE"
   ]
  },
  {
   "cell_type": "code",
   "execution_count": 84,
   "metadata": {},
   "outputs": [],
   "source": [
    "df2 = df2.drop(['ADMISSION_TYPE'],axis=1)"
   ]
  },
  {
   "cell_type": "code",
   "execution_count": 85,
   "metadata": {},
   "outputs": [
    {
     "data": {
      "text/plain": [
       "(25337, 29)"
      ]
     },
     "execution_count": 85,
     "metadata": {},
     "output_type": "execute_result"
    }
   ],
   "source": [
    "df2.shape"
   ]
  },
  {
   "cell_type": "code",
   "execution_count": 86,
   "metadata": {},
   "outputs": [
    {
     "data": {
      "text/plain": [
       "Index(['RACE', 'GENDER', 'AGE_INT', 'DISCHARGE_DISPOSITION',\n",
       "       'ADMISSION_SOURCE', 'TIME_IN_HOSPITAL', 'MEDICAL_SPECIALTY',\n",
       "       'NUM_LAB_PROCEDURES', 'NUM_PROCEDURES', 'NUM_MEDICATIONS', 'DIAG_1',\n",
       "       'DIAG_2', 'DIAG_3', 'NUMBER_DIAGNOSES', 'MAX_GLU_SERUM', 'A1CRESULT',\n",
       "       'METFORMIN', 'REPAGLINIDE', 'GLIMEPIRIDE', 'GLIPIZIDE', 'GLYBURIDE',\n",
       "       'PIOGLITAZONE', 'ROSIGLITAZONE', 'INSULIN', 'DIABETESMED', 'READMITTED',\n",
       "       'preceding_year_visits', 'number_changes', 'insulin_treatment'],\n",
       "      dtype='object')"
      ]
     },
     "execution_count": 86,
     "metadata": {},
     "output_type": "execute_result"
    }
   ],
   "source": [
    "df2.columns"
   ]
  },
  {
   "cell_type": "markdown",
   "metadata": {},
   "source": [
    "\n",
    "## Multi-Collinearity\n"
   ]
  },
  {
   "cell_type": "code",
   "execution_count": 87,
   "metadata": {},
   "outputs": [
    {
     "data": {
      "image/png": "[encoded data removed]",
      "text/plain": [
       "<Figure size 576x360 with 2 Axes>"
      ]
     },
     "metadata": {
      "needs_background": "light"
     },
     "output_type": "display_data"
    }
   ],
   "source": [
    "plt.figure(figsize=(8,5))\n",
    "corr=df2[num_cols].corr()\n",
    "sns.heatmap(corr,annot=True,cmap='YlGnBu')\n",
    "b,t=plt.ylim()\n",
    "plt.ylim(b+0.5,t-0.5)\n",
    "plt.show()"
   ]
  },
  {
   "cell_type": "code",
   "execution_count": 88,
   "metadata": {},
   "outputs": [
    {
     "data": {
      "text/html": [
       "<div>\n",
       "<style scoped>\n",
       "    .dataframe tbody tr th:only-of-type {\n",
       "        vertical-align: middle;\n",
       "    }\n",
       "\n",
       "    .dataframe tbody tr th {\n",
       "        vertical-align: top;\n",
       "    }\n",
       "\n",
       "    .dataframe thead th {\n",
       "        text-align: right;\n",
       "    }\n",
       "</style>\n",
       "<table border=\"1\" class=\"dataframe\">\n",
       "  <thead>\n",
       "    <tr style=\"text-align: right;\">\n",
       "      <th></th>\n",
       "      <th>VIF</th>\n",
       "      <th>feature</th>\n",
       "    </tr>\n",
       "  </thead>\n",
       "  <tbody>\n",
       "    <tr>\n",
       "      <td>5</td>\n",
       "      <td>14.765046</td>\n",
       "      <td>NUMBER_DIAGNOSES</td>\n",
       "    </tr>\n",
       "    <tr>\n",
       "      <td>0</td>\n",
       "      <td>12.129846</td>\n",
       "      <td>AGE_INT</td>\n",
       "    </tr>\n",
       "    <tr>\n",
       "      <td>4</td>\n",
       "      <td>6.855368</td>\n",
       "      <td>NUM_MEDICATIONS</td>\n",
       "    </tr>\n",
       "    <tr>\n",
       "      <td>2</td>\n",
       "      <td>5.869225</td>\n",
       "      <td>NUM_LAB_PROCEDURES</td>\n",
       "    </tr>\n",
       "    <tr>\n",
       "      <td>1</td>\n",
       "      <td>4.273706</td>\n",
       "      <td>TIME_IN_HOSPITAL</td>\n",
       "    </tr>\n",
       "    <tr>\n",
       "      <td>3</td>\n",
       "      <td>1.935540</td>\n",
       "      <td>NUM_PROCEDURES</td>\n",
       "    </tr>\n",
       "    <tr>\n",
       "      <td>7</td>\n",
       "      <td>1.688623</td>\n",
       "      <td>number_changes</td>\n",
       "    </tr>\n",
       "    <tr>\n",
       "      <td>6</td>\n",
       "      <td>1.280949</td>\n",
       "      <td>preceding_year_visits</td>\n",
       "    </tr>\n",
       "  </tbody>\n",
       "</table>\n",
       "</div>"
      ],
      "text/plain": [
       "         VIF                feature\n",
       "5  14.765046       NUMBER_DIAGNOSES\n",
       "0  12.129846                AGE_INT\n",
       "4   6.855368        NUM_MEDICATIONS\n",
       "2   5.869225     NUM_LAB_PROCEDURES\n",
       "1   4.273706       TIME_IN_HOSPITAL\n",
       "3   1.935540         NUM_PROCEDURES\n",
       "7   1.688623         number_changes\n",
       "6   1.280949  preceding_year_visits"
      ]
     },
     "execution_count": 88,
     "metadata": {},
     "output_type": "execute_result"
    }
   ],
   "source": [
    "from statsmodels.stats.outliers_influence import variance_inflation_factor\n",
    "vif=pd.DataFrame()\n",
    "vif['VIF']=[variance_inflation_factor(df2[num_cols].values,i) for i in range(df2[num_cols].shape[1])]\n",
    "vif['feature']=df2[num_cols].columns\n",
    "vif=vif.sort_values('VIF',ascending=False)\n",
    "vif"
   ]
  },
  {
   "cell_type": "markdown",
   "metadata": {},
   "source": [
    "Comme on peut le voir à partir de la carte thermique de corrélation et des valeurs de vif, il n'y a pas de multi-colinéarité dans les caractéristiques numériques."
   ]
  },
  {
   "cell_type": "code",
   "execution_count": 89,
   "metadata": {},
   "outputs": [
    {
     "data": {
      "image/png": "[encoded data removed]",
      "text/plain": [
       "<Figure size 1080x360 with 2 Axes>"
      ]
     },
     "metadata": {
      "needs_background": "light"
     },
     "output_type": "display_data"
    }
   ],
   "source": [
    "fig,ax=plt.subplots(1,2,figsize=(15,5))\n",
    "ax=ax.flatten()\n",
    "j=0\n",
    "for i in ['A1CRESULT','MAX_GLU_SERUM']:    \n",
    "    sns.countplot(df2[i],hue=df2['READMITTED'],ax=ax[j]) \n",
    "    j=j+1\n",
    "plt.show()\n"
   ]
  },
  {
   "cell_type": "markdown",
   "metadata": {},
   "source": [
    "Nous pouvons voir que la majorité des patients réadmis n’ont pas subi de test A1C ni de test Max Glucose Serum."
   ]
  },
  {
   "cell_type": "markdown",
   "metadata": {},
   "source": [
    "## Outliers et normalité"
   ]
  },
  {
   "cell_type": "code",
   "execution_count": 90,
   "metadata": {},
   "outputs": [
    {
     "data": {
      "image/png": "[encoded data removed]",
      "text/plain": [
       "<Figure size 1800x720 with 8 Axes>"
      ]
     },
     "metadata": {
      "needs_background": "light"
     },
     "output_type": "display_data"
    }
   ],
   "source": [
    "fig,ax=plt.subplots(2,4,figsize=(25,10))\n",
    "ax=ax.flatten()\n",
    "j=0\n",
    "for i in num_cols:    \n",
    "    sns.kdeplot(df2[i],ax=ax[j],shade=True)\n",
    "    plt.rc('legend', fontsize=15) \n",
    "    j=j+1\n",
    "plt.show()\n"
   ]
  },
  {
   "cell_type": "code",
   "execution_count": 91,
   "metadata": {},
   "outputs": [
    {
     "name": "stdout",
     "output_type": "stream",
     "text": [
      "AGE_INT 69\n",
      "TIME_IN_HOSPITAL 488\n",
      "NUM_LAB_PROCEDURES 53\n",
      "NUM_PROCEDURES 1471\n",
      "NUM_MEDICATIONS 722\n",
      "NUMBER_DIAGNOSES 9\n",
      "preceding_year_visits 3778\n",
      "number_changes 47\n"
     ]
    }
   ],
   "source": [
    "#Number of outliers\n",
    "for i in num_cols:\n",
    "    q1 = df2[i].quantile(0.25)\n",
    "    q3 = df2[i].quantile(0.75)\n",
    "    iqr = q3-q1\n",
    "\n",
    "    UL = q3 + (1.5 * iqr)\n",
    "    LL = q1 - (1.5 * iqr)\n",
    "    print(i,df2[(df2[i]>UL) | (df2[i]<LL)].count()[i])\n",
    "    #print(X[(X[i]>UL) | (X[i]<LL)][i])\n"
   ]
  },
  {
   "cell_type": "markdown",
   "metadata": {},
   "source": [
    "Les données ne sont pas normalement distribuées et ont peu de valeurs aberrantes, nous utilisons donc la transformation."
   ]
  },
  {
   "cell_type": "code",
   "execution_count": 92,
   "metadata": {},
   "outputs": [
    {
     "data": {
      "text/html": [
       "<div>\n",
       "<style scoped>\n",
       "    .dataframe tbody tr th:only-of-type {\n",
       "        vertical-align: middle;\n",
       "    }\n",
       "\n",
       "    .dataframe tbody tr th {\n",
       "        vertical-align: top;\n",
       "    }\n",
       "\n",
       "    .dataframe thead th {\n",
       "        text-align: right;\n",
       "    }\n",
       "</style>\n",
       "<table border=\"1\" class=\"dataframe\">\n",
       "  <thead>\n",
       "    <tr style=\"text-align: right;\">\n",
       "      <th></th>\n",
       "      <th>Skew_Before</th>\n",
       "      <th>Skew_After</th>\n",
       "    </tr>\n",
       "  </thead>\n",
       "  <tbody>\n",
       "    <tr>\n",
       "      <td>AGE_INT</td>\n",
       "      <td>-0.517891</td>\n",
       "      <td>-0.104587</td>\n",
       "    </tr>\n",
       "    <tr>\n",
       "      <td>TIME_IN_HOSPITAL</td>\n",
       "      <td>1.128727</td>\n",
       "      <td>0.012535</td>\n",
       "    </tr>\n",
       "    <tr>\n",
       "      <td>NUM_LAB_PROCEDURES</td>\n",
       "      <td>-0.290458</td>\n",
       "      <td>-0.283152</td>\n",
       "    </tr>\n",
       "    <tr>\n",
       "      <td>NUM_PROCEDURES</td>\n",
       "      <td>1.195864</td>\n",
       "      <td>0.131387</td>\n",
       "    </tr>\n",
       "    <tr>\n",
       "      <td>NUM_MEDICATIONS</td>\n",
       "      <td>1.496423</td>\n",
       "      <td>0.019794</td>\n",
       "    </tr>\n",
       "    <tr>\n",
       "      <td>NUMBER_DIAGNOSES</td>\n",
       "      <td>-0.592813</td>\n",
       "      <td>-0.189704</td>\n",
       "    </tr>\n",
       "    <tr>\n",
       "      <td>preceding_year_visits</td>\n",
       "      <td>7.121517</td>\n",
       "      <td>0.420725</td>\n",
       "    </tr>\n",
       "    <tr>\n",
       "      <td>number_changes</td>\n",
       "      <td>1.086956</td>\n",
       "      <td>0.619423</td>\n",
       "    </tr>\n",
       "  </tbody>\n",
       "</table>\n",
       "</div>"
      ],
      "text/plain": [
       "                       Skew_Before  Skew_After\n",
       "AGE_INT                  -0.517891   -0.104587\n",
       "TIME_IN_HOSPITAL          1.128727    0.012535\n",
       "NUM_LAB_PROCEDURES       -0.290458   -0.283152\n",
       "NUM_PROCEDURES            1.195864    0.131387\n",
       "NUM_MEDICATIONS           1.496423    0.019794\n",
       "NUMBER_DIAGNOSES         -0.592813   -0.189704\n",
       "preceding_year_visits     7.121517    0.420725\n",
       "number_changes            1.086956    0.619423"
      ]
     },
     "execution_count": 92,
     "metadata": {},
     "output_type": "execute_result"
    }
   ],
   "source": [
    "pt = PowerTransformer(method = 'yeo-johnson')\n",
    "df_new=df2.copy()\n",
    "df_new[num_cols]=pd.DataFrame(pt.fit_transform(df_new[num_cols]), columns = num_cols)\n",
    "skew_df = pd.DataFrame({\"Skew_Before\" : df2[num_cols].skew(), \"Skew_After\" : df_new[num_cols].skew()})\n",
    "skew_df"
   ]
  },
  {
   "cell_type": "markdown",
   "metadata": {},
   "source": [
    "### Scaling "
   ]
  },
  {
   "cell_type": "code",
   "execution_count": 93,
   "metadata": {},
   "outputs": [],
   "source": [
    "mm=MinMaxScaler()\n",
    "df_new[num_cols]=pd.DataFrame(mm.fit_transform(df_new[num_cols]), columns = num_cols)"
   ]
  },
  {
   "cell_type": "code",
   "execution_count": 94,
   "metadata": {},
   "outputs": [],
   "source": [
    "df2.to_csv('CSV_Files/Diabetes_cleaned.csv', index = False)"
   ]
  },
  {
   "cell_type": "code",
   "execution_count": null,
   "metadata": {},
   "outputs": [],
   "source": []
  }
 ],
 "metadata": {
  "kernelspec": {
   "display_name": "Python 3",
   "language": "python",
   "name": "python3"
  },
  "language_info": {
   "codemirror_mode": {
    "name": "ipython",
    "version": 3
   },
   "file_extension": ".py",
   "mimetype": "text/x-python",
   "name": "python",
   "nbconvert_exporter": "python",
   "pygments_lexer": "ipython3",
   "version": "3.7.4"
  }
 },
 "nbformat": 4,
 "nbformat_minor": 2
}
