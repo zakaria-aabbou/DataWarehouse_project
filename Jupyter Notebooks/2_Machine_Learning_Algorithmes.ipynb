{
 "cells": [
  {
   "cell_type": "markdown",
   "metadata": {},
   "source": [
    "<h1 style=\"text-align:center;font-size: 3em\"> Algorithmes de Machine Learning </h1>"
   ]
  },
  {
   "cell_type": "markdown",
   "metadata": {},
   "source": [
    "Dans ce Notebook, nous évaluerons plusieurs approches d'apprentissage automatique pour prédire la probabilité de réadmission à l'hôpital pour les patients diabétiques."
   ]
  },
  {
   "cell_type": "code",
   "execution_count": 1,
   "metadata": {},
   "outputs": [],
   "source": [
    "import numpy as np\n",
    "import pandas as pd\n",
    "import matplotlib.pyplot as plt\n",
    "import seaborn as sns\n",
    "import time\n",
    "from sklearn.linear_model import LogisticRegression\n",
    "from sklearn.ensemble import RandomForestClassifier\n",
    "from sklearn.tree import DecisionTreeClassifier\n",
    "from sklearn.svm import SVC\n",
    "from sklearn.pipeline import Pipeline\n",
    "from sklearn.preprocessing import StandardScaler, PowerTransformer, LabelEncoder, OneHotEncoder\n",
    "from sklearn.metrics import classification_report, confusion_matrix, precision_score, recall_score, f1_score, roc_auc_score\n",
    "from sklearn.metrics import recall_score, f1_score, confusion_matrix, classification_report, accuracy_score,precision_score, roc_auc_score"
   ]
  },
  {
   "cell_type": "code",
   "execution_count": 2,
   "metadata": {
    "scrolled": true
   },
   "outputs": [
    {
     "data": {
      "text/html": [
       "<div>\n",
       "<style scoped>\n",
       "    .dataframe tbody tr th:only-of-type {\n",
       "        vertical-align: middle;\n",
       "    }\n",
       "\n",
       "    .dataframe tbody tr th {\n",
       "        vertical-align: top;\n",
       "    }\n",
       "\n",
       "    .dataframe thead th {\n",
       "        text-align: right;\n",
       "    }\n",
       "</style>\n",
       "<table border=\"1\" class=\"dataframe\">\n",
       "  <thead>\n",
       "    <tr style=\"text-align: right;\">\n",
       "      <th></th>\n",
       "      <th>RACE</th>\n",
       "      <th>GENDER</th>\n",
       "      <th>AGE_INT</th>\n",
       "      <th>DISCHARGE_DISPOSITION</th>\n",
       "      <th>ADMISSION_SOURCE</th>\n",
       "      <th>TIME_IN_HOSPITAL</th>\n",
       "      <th>MEDICAL_SPECIALTY</th>\n",
       "      <th>NUM_LAB_PROCEDURES</th>\n",
       "      <th>NUM_PROCEDURES</th>\n",
       "      <th>NUM_MEDICATIONS</th>\n",
       "      <th>...</th>\n",
       "      <th>GLIPIZIDE</th>\n",
       "      <th>GLYBURIDE</th>\n",
       "      <th>PIOGLITAZONE</th>\n",
       "      <th>ROSIGLITAZONE</th>\n",
       "      <th>INSULIN</th>\n",
       "      <th>DIABETESMED</th>\n",
       "      <th>READMITTED</th>\n",
       "      <th>preceding_year_visits</th>\n",
       "      <th>number_changes</th>\n",
       "      <th>insulin_treatment</th>\n",
       "    </tr>\n",
       "  </thead>\n",
       "  <tbody>\n",
       "    <tr>\n",
       "      <td>0</td>\n",
       "      <td>Caucasian</td>\n",
       "      <td>0</td>\n",
       "      <td>65</td>\n",
       "      <td>Discharged to home</td>\n",
       "      <td>Referral</td>\n",
       "      <td>3</td>\n",
       "      <td>Nephrology</td>\n",
       "      <td>59</td>\n",
       "      <td>3</td>\n",
       "      <td>11</td>\n",
       "      <td>...</td>\n",
       "      <td>-2</td>\n",
       "      <td>-2</td>\n",
       "      <td>-2</td>\n",
       "      <td>-2</td>\n",
       "      <td>0</td>\n",
       "      <td>1</td>\n",
       "      <td>0</td>\n",
       "      <td>0</td>\n",
       "      <td>0.0</td>\n",
       "      <td>insulin_only</td>\n",
       "    </tr>\n",
       "    <tr>\n",
       "      <td>1</td>\n",
       "      <td>Caucasian</td>\n",
       "      <td>0</td>\n",
       "      <td>75</td>\n",
       "      <td>Transferred to another medical facility</td>\n",
       "      <td>Emergency</td>\n",
       "      <td>7</td>\n",
       "      <td>Orthopedics-Reconstructive</td>\n",
       "      <td>58</td>\n",
       "      <td>2</td>\n",
       "      <td>15</td>\n",
       "      <td>...</td>\n",
       "      <td>-2</td>\n",
       "      <td>-2</td>\n",
       "      <td>1</td>\n",
       "      <td>-2</td>\n",
       "      <td>0</td>\n",
       "      <td>1</td>\n",
       "      <td>0</td>\n",
       "      <td>0</td>\n",
       "      <td>1.0</td>\n",
       "      <td>insulin_combo</td>\n",
       "    </tr>\n",
       "    <tr>\n",
       "      <td>2</td>\n",
       "      <td>Caucasian</td>\n",
       "      <td>0</td>\n",
       "      <td>95</td>\n",
       "      <td>Discharged to home</td>\n",
       "      <td>Emergency</td>\n",
       "      <td>4</td>\n",
       "      <td>Emergency/Trauma</td>\n",
       "      <td>56</td>\n",
       "      <td>1</td>\n",
       "      <td>9</td>\n",
       "      <td>...</td>\n",
       "      <td>-2</td>\n",
       "      <td>-2</td>\n",
       "      <td>-2</td>\n",
       "      <td>-2</td>\n",
       "      <td>-2</td>\n",
       "      <td>1</td>\n",
       "      <td>0</td>\n",
       "      <td>0</td>\n",
       "      <td>0.0</td>\n",
       "      <td>other_meds</td>\n",
       "    </tr>\n",
       "    <tr>\n",
       "      <td>3</td>\n",
       "      <td>Caucasian</td>\n",
       "      <td>1</td>\n",
       "      <td>75</td>\n",
       "      <td>Transferred to another medical facility</td>\n",
       "      <td>Emergency</td>\n",
       "      <td>10</td>\n",
       "      <td>InternalMedicine</td>\n",
       "      <td>68</td>\n",
       "      <td>1</td>\n",
       "      <td>18</td>\n",
       "      <td>...</td>\n",
       "      <td>-2</td>\n",
       "      <td>-2</td>\n",
       "      <td>-2</td>\n",
       "      <td>-2</td>\n",
       "      <td>0</td>\n",
       "      <td>1</td>\n",
       "      <td>0</td>\n",
       "      <td>0</td>\n",
       "      <td>0.0</td>\n",
       "      <td>insulin_combo</td>\n",
       "    </tr>\n",
       "    <tr>\n",
       "      <td>4</td>\n",
       "      <td>Caucasian</td>\n",
       "      <td>1</td>\n",
       "      <td>55</td>\n",
       "      <td>Left AMA</td>\n",
       "      <td>Transferred from another health care facility</td>\n",
       "      <td>6</td>\n",
       "      <td>Nephrology</td>\n",
       "      <td>52</td>\n",
       "      <td>3</td>\n",
       "      <td>17</td>\n",
       "      <td>...</td>\n",
       "      <td>-2</td>\n",
       "      <td>-2</td>\n",
       "      <td>-2</td>\n",
       "      <td>-2</td>\n",
       "      <td>0</td>\n",
       "      <td>1</td>\n",
       "      <td>1</td>\n",
       "      <td>0</td>\n",
       "      <td>0.0</td>\n",
       "      <td>insulin_only</td>\n",
       "    </tr>\n",
       "  </tbody>\n",
       "</table>\n",
       "<p>5 rows × 29 columns</p>\n",
       "</div>"
      ],
      "text/plain": [
       "        RACE  GENDER  AGE_INT                    DISCHARGE_DISPOSITION  \\\n",
       "0  Caucasian       0       65                       Discharged to home   \n",
       "1  Caucasian       0       75  Transferred to another medical facility   \n",
       "2  Caucasian       0       95                       Discharged to home   \n",
       "3  Caucasian       1       75  Transferred to another medical facility   \n",
       "4  Caucasian       1       55                                 Left AMA   \n",
       "\n",
       "                                ADMISSION_SOURCE  TIME_IN_HOSPITAL  \\\n",
       "0                                       Referral                 3   \n",
       "1                                      Emergency                 7   \n",
       "2                                      Emergency                 4   \n",
       "3                                      Emergency                10   \n",
       "4  Transferred from another health care facility                 6   \n",
       "\n",
       "            MEDICAL_SPECIALTY  NUM_LAB_PROCEDURES  NUM_PROCEDURES  \\\n",
       "0                  Nephrology                  59               3   \n",
       "1  Orthopedics-Reconstructive                  58               2   \n",
       "2            Emergency/Trauma                  56               1   \n",
       "3            InternalMedicine                  68               1   \n",
       "4                  Nephrology                  52               3   \n",
       "\n",
       "   NUM_MEDICATIONS  ... GLIPIZIDE GLYBURIDE PIOGLITAZONE  ROSIGLITAZONE  \\\n",
       "0               11  ...        -2        -2           -2             -2   \n",
       "1               15  ...        -2        -2            1             -2   \n",
       "2                9  ...        -2        -2           -2             -2   \n",
       "3               18  ...        -2        -2           -2             -2   \n",
       "4               17  ...        -2        -2           -2             -2   \n",
       "\n",
       "  INSULIN DIABETESMED  READMITTED  preceding_year_visits  number_changes  \\\n",
       "0       0           1           0                      0             0.0   \n",
       "1       0           1           0                      0             1.0   \n",
       "2      -2           1           0                      0             0.0   \n",
       "3       0           1           0                      0             0.0   \n",
       "4       0           1           1                      0             0.0   \n",
       "\n",
       "   insulin_treatment  \n",
       "0       insulin_only  \n",
       "1      insulin_combo  \n",
       "2         other_meds  \n",
       "3      insulin_combo  \n",
       "4       insulin_only  \n",
       "\n",
       "[5 rows x 29 columns]"
      ]
     },
     "execution_count": 2,
     "metadata": {},
     "output_type": "execute_result"
    }
   ],
   "source": [
    "df=pd.read_csv('CSV_Files/Diabetes_cleaned.csv')\n",
    "df.head()"
   ]
  },
  {
   "cell_type": "code",
   "execution_count": 3,
   "metadata": {},
   "outputs": [
    {
     "data": {
      "text/plain": [
       "Index(['RACE', 'GENDER', 'AGE_INT', 'DISCHARGE_DISPOSITION',\n",
       "       'ADMISSION_SOURCE', 'TIME_IN_HOSPITAL', 'MEDICAL_SPECIALTY',\n",
       "       'NUM_LAB_PROCEDURES', 'NUM_PROCEDURES', 'NUM_MEDICATIONS', 'DIAG_1',\n",
       "       'DIAG_2', 'DIAG_3', 'NUMBER_DIAGNOSES', 'MAX_GLU_SERUM', 'A1CRESULT',\n",
       "       'METFORMIN', 'REPAGLINIDE', 'GLIMEPIRIDE', 'GLIPIZIDE', 'GLYBURIDE',\n",
       "       'PIOGLITAZONE', 'ROSIGLITAZONE', 'INSULIN', 'DIABETESMED', 'READMITTED',\n",
       "       'preceding_year_visits', 'number_changes', 'insulin_treatment'],\n",
       "      dtype='object')"
      ]
     },
     "execution_count": 3,
     "metadata": {},
     "output_type": "execute_result"
    }
   ],
   "source": [
    "df.columns"
   ]
  },
  {
   "cell_type": "code",
   "execution_count": 4,
   "metadata": {
    "colab": {
     "base_uri": "https://localhost:8080/",
     "height": 34
    },
    "id": "WBzWs0UxlDZx",
    "outputId": "28b6861d-f800-435e-e07d-e6c25540c2b1"
   },
   "outputs": [
    {
     "data": {
      "text/plain": [
       "((17735, 145), (7602, 145), (17735,), (7602,))"
      ]
     },
     "execution_count": 4,
     "metadata": {},
     "output_type": "execute_result"
    }
   ],
   "source": [
    "X = df.drop('READMITTED', 1)\n",
    "X_dum = pd.get_dummies(X, drop_first = True)\n",
    "y = df['READMITTED']\n",
    "\n",
    "from sklearn.model_selection import train_test_split\n",
    "X_train, X_test, y_train, y_test = train_test_split(X_dum, y, random_state = 0, test_size = 0.3, stratify = y)\n",
    "\n",
    "X_train.shape, X_test.shape, y_train.shape, y_test.shape \n"
   ]
  },
  {
   "cell_type": "code",
   "execution_count": 5,
   "metadata": {},
   "outputs": [],
   "source": [
    "X_train.columns = [\"\".join (c if c.isalnum() else \"_\" for c in str(x)) for x in X_train.columns]\n",
    "X_test.columns = [\"\".join (c if c.isalnum() else \"_\" for c in str(x)) for x in X_test.columns]"
   ]
  },
  {
   "cell_type": "markdown",
   "metadata": {},
   "source": [
    "### Arbres de décisions"
   ]
  },
  {
   "cell_type": "code",
   "execution_count": 6,
   "metadata": {
    "scrolled": true
   },
   "outputs": [
    {
     "data": {
      "text/html": [
       "<div>\n",
       "<style scoped>\n",
       "    .dataframe tbody tr th:only-of-type {\n",
       "        vertical-align: middle;\n",
       "    }\n",
       "\n",
       "    .dataframe tbody tr th {\n",
       "        vertical-align: top;\n",
       "    }\n",
       "\n",
       "    .dataframe thead th {\n",
       "        text-align: right;\n",
       "    }\n",
       "</style>\n",
       "<table border=\"1\" class=\"dataframe\">\n",
       "  <thead>\n",
       "    <tr style=\"text-align: right;\">\n",
       "      <th></th>\n",
       "      <th>Importance</th>\n",
       "    </tr>\n",
       "  </thead>\n",
       "  <tbody>\n",
       "    <tr>\n",
       "      <td>NUM_LAB_PROCEDURES</td>\n",
       "      <td>0.102829</td>\n",
       "    </tr>\n",
       "    <tr>\n",
       "      <td>NUM_MEDICATIONS</td>\n",
       "      <td>0.080634</td>\n",
       "    </tr>\n",
       "    <tr>\n",
       "      <td>TIME_IN_HOSPITAL</td>\n",
       "      <td>0.058017</td>\n",
       "    </tr>\n",
       "    <tr>\n",
       "      <td>preceding_year_visits</td>\n",
       "      <td>0.048388</td>\n",
       "    </tr>\n",
       "    <tr>\n",
       "      <td>AGE_INT</td>\n",
       "      <td>0.041802</td>\n",
       "    </tr>\n",
       "    <tr>\n",
       "      <td>...</td>\n",
       "      <td>...</td>\n",
       "    </tr>\n",
       "    <tr>\n",
       "      <td>DIAG_2_Sense_Organs</td>\n",
       "      <td>0.000000</td>\n",
       "    </tr>\n",
       "    <tr>\n",
       "      <td>MEDICAL_SPECIALTY_Gynecology</td>\n",
       "      <td>0.000000</td>\n",
       "    </tr>\n",
       "    <tr>\n",
       "      <td>MEDICAL_SPECIALTY_Endocrinology_Metabolism</td>\n",
       "      <td>0.000000</td>\n",
       "    </tr>\n",
       "    <tr>\n",
       "      <td>MEDICAL_SPECIALTY_Endocrinology</td>\n",
       "      <td>0.000000</td>\n",
       "    </tr>\n",
       "    <tr>\n",
       "      <td>MEDICAL_SPECIALTY_Neurophysiology</td>\n",
       "      <td>0.000000</td>\n",
       "    </tr>\n",
       "  </tbody>\n",
       "</table>\n",
       "<p>145 rows × 1 columns</p>\n",
       "</div>"
      ],
      "text/plain": [
       "                                            Importance\n",
       "NUM_LAB_PROCEDURES                            0.102829\n",
       "NUM_MEDICATIONS                               0.080634\n",
       "TIME_IN_HOSPITAL                              0.058017\n",
       "preceding_year_visits                         0.048388\n",
       "AGE_INT                                       0.041802\n",
       "...                                                ...\n",
       "DIAG_2_Sense_Organs                           0.000000\n",
       "MEDICAL_SPECIALTY_Gynecology                  0.000000\n",
       "MEDICAL_SPECIALTY_Endocrinology_Metabolism    0.000000\n",
       "MEDICAL_SPECIALTY_Endocrinology               0.000000\n",
       "MEDICAL_SPECIALTY_Neurophysiology             0.000000\n",
       "\n",
       "[145 rows x 1 columns]"
      ]
     },
     "execution_count": 6,
     "metadata": {},
     "output_type": "execute_result"
    }
   ],
   "source": [
    "from sklearn.tree import DecisionTreeClassifier\n",
    "DT = DecisionTreeClassifier(random_state = 0)\n",
    "\n",
    "DT.fit(X_train,y_train)\n",
    "imp = pd.DataFrame(DT.feature_importances_,index=X_train.columns,columns=['Importance'])\n",
    "imp.sort_values(by='Importance',ascending=False)"
   ]
  },
  {
   "cell_type": "code",
   "execution_count": 7,
   "metadata": {
    "scrolled": true
   },
   "outputs": [
    {
     "data": {
      "image/png": "[encoded data removed]",
      "text/plain": [
       "<IPython.core.display.Image object>"
      ]
     },
     "execution_count": 7,
     "metadata": {},
     "output_type": "execute_result"
    }
   ],
   "source": [
    "tree = DecisionTreeClassifier(random_state = 0, class_weight = 'balanced',max_depth=2)\n",
    "tree.fit(X_train, y_train)\n",
    "\n",
    "import os\n",
    "os.environ['PATH'] = os.environ['PATH']+';'+os.environ['CONDA_PREFIX']+r\"\\Library\\bin\\graphviz\"\n",
    "\n",
    "from IPython.display import Image  \n",
    "#from sklearn.externals.six import StringIO  \n",
    "from sklearn.tree import export_graphviz\n",
    "import pydotplus\n",
    "\n",
    "features = X_train.columns\n",
    "# Create DOT data\n",
    "dot_data = export_graphviz(tree, out_file=None, feature_names=features)\n",
    "\n",
    "# Draw graph\n",
    "graph = pydotplus.graph_from_dot_data(dot_data)  \n",
    "\n",
    "# Show graph\n",
    "Image(graph.create_png())\n"
   ]
  },
  {
   "cell_type": "markdown",
   "metadata": {},
   "source": [
    "### Random Forest"
   ]
  },
  {
   "cell_type": "code",
   "execution_count": 8,
   "metadata": {
    "colab": {
     "base_uri": "https://localhost:8080/",
     "height": 1000
    },
    "id": "KHwvTP0xln-N",
    "outputId": "8a7eeed4-0613-44d0-bf2f-9b660bdcd0d4"
   },
   "outputs": [
    {
     "data": {
      "text/html": [
       "<div>\n",
       "<style scoped>\n",
       "    .dataframe tbody tr th:only-of-type {\n",
       "        vertical-align: middle;\n",
       "    }\n",
       "\n",
       "    .dataframe tbody tr th {\n",
       "        vertical-align: top;\n",
       "    }\n",
       "\n",
       "    .dataframe thead th {\n",
       "        text-align: right;\n",
       "    }\n",
       "</style>\n",
       "<table border=\"1\" class=\"dataframe\">\n",
       "  <thead>\n",
       "    <tr style=\"text-align: right;\">\n",
       "      <th></th>\n",
       "      <th>Importance</th>\n",
       "    </tr>\n",
       "  </thead>\n",
       "  <tbody>\n",
       "    <tr>\n",
       "      <td>NUM_LAB_PROCEDURES</td>\n",
       "      <td>8.188810e-02</td>\n",
       "    </tr>\n",
       "    <tr>\n",
       "      <td>NUM_MEDICATIONS</td>\n",
       "      <td>7.684449e-02</td>\n",
       "    </tr>\n",
       "    <tr>\n",
       "      <td>preceding_year_visits</td>\n",
       "      <td>6.491408e-02</td>\n",
       "    </tr>\n",
       "    <tr>\n",
       "      <td>TIME_IN_HOSPITAL</td>\n",
       "      <td>5.605033e-02</td>\n",
       "    </tr>\n",
       "    <tr>\n",
       "      <td>AGE_INT</td>\n",
       "      <td>4.729242e-02</td>\n",
       "    </tr>\n",
       "    <tr>\n",
       "      <td>...</td>\n",
       "      <td>...</td>\n",
       "    </tr>\n",
       "    <tr>\n",
       "      <td>DISCHARGE_DISPOSITION_Not_Available</td>\n",
       "      <td>4.577223e-21</td>\n",
       "    </tr>\n",
       "    <tr>\n",
       "      <td>MEDICAL_SPECIALTY_Pediatrics_Pulmonology</td>\n",
       "      <td>0.000000e+00</td>\n",
       "    </tr>\n",
       "    <tr>\n",
       "      <td>MEDICAL_SPECIALTY_Neurophysiology</td>\n",
       "      <td>0.000000e+00</td>\n",
       "    </tr>\n",
       "    <tr>\n",
       "      <td>MEDICAL_SPECIALTY_SportsMedicine</td>\n",
       "      <td>0.000000e+00</td>\n",
       "    </tr>\n",
       "    <tr>\n",
       "      <td>MEDICAL_SPECIALTY_Perinatology</td>\n",
       "      <td>0.000000e+00</td>\n",
       "    </tr>\n",
       "  </tbody>\n",
       "</table>\n",
       "<p>145 rows × 1 columns</p>\n",
       "</div>"
      ],
      "text/plain": [
       "                                            Importance\n",
       "NUM_LAB_PROCEDURES                        8.188810e-02\n",
       "NUM_MEDICATIONS                           7.684449e-02\n",
       "preceding_year_visits                     6.491408e-02\n",
       "TIME_IN_HOSPITAL                          5.605033e-02\n",
       "AGE_INT                                   4.729242e-02\n",
       "...                                                ...\n",
       "DISCHARGE_DISPOSITION_Not_Available       4.577223e-21\n",
       "MEDICAL_SPECIALTY_Pediatrics_Pulmonology  0.000000e+00\n",
       "MEDICAL_SPECIALTY_Neurophysiology         0.000000e+00\n",
       "MEDICAL_SPECIALTY_SportsMedicine          0.000000e+00\n",
       "MEDICAL_SPECIALTY_Perinatology            0.000000e+00\n",
       "\n",
       "[145 rows x 1 columns]"
      ]
     },
     "execution_count": 8,
     "metadata": {},
     "output_type": "execute_result"
    }
   ],
   "source": [
    "\n",
    "from sklearn.ensemble import RandomForestClassifier\n",
    "RF = RandomForestClassifier(random_state = 0, n_jobs = -1,class_weight='balanced_subsample')\n",
    "RF.fit(X_train,y_train)\n",
    "imp = pd.DataFrame(RF.feature_importances_,index=X_train.columns,columns=['Importance'])\n",
    "imp.sort_values(by='Importance',ascending=False)\n"
   ]
  },
  {
   "cell_type": "code",
   "execution_count": 9,
   "metadata": {},
   "outputs": [
    {
     "name": "stdout",
     "output_type": "stream",
     "text": [
      "Train Accuracy Score: 1.0\n",
      "Train Confusion Matrix:\n",
      " [[15807     0]\n",
      " [    0  1928]] \n",
      "\n",
      "Train F1 Score: 1.0\n",
      "Train Precision Score: 1.0\n",
      "Train Recall Score: 1.0\n",
      "Train ROC_AUC Score: 0.9999999999999999\n",
      "\n",
      "Test Accuracy Score: 0.8923967377006051\n",
      "Test Confusion Matrix:\n",
      " [[6770    6]\n",
      " [ 812   14]] \n",
      "\n",
      "Test F1 Score: 0.03309692671394799\n",
      "Test Precision Score: 0.7\n",
      "Test Recall Score: 0.01694915254237288\n",
      "Test ROC_AUC Score: 0.6316778024418901\n"
     ]
    }
   ],
   "source": [
    "from sklearn.ensemble import RandomForestClassifier\n",
    "\n",
    "rf = RandomForestClassifier(random_state = 0, n_jobs = -1)\n",
    "rf.fit(X_train, y_train)\n",
    "y_train_pred = rf.predict(X_train)\n",
    "y_train_prob = rf.predict_proba(X_train)[:, 1]\n",
    "y_test_pred = rf.predict(X_test)\n",
    "y_test_prob = rf.predict_proba(X_test)[:, 1]\n",
    "\n",
    "print(\"Train Accuracy Score:\", accuracy_score(y_train, y_train_pred))\n",
    "print(\"Train Confusion Matrix:\\n\", confusion_matrix(y_train, y_train_pred), '\\n')\n",
    "print(\"Train F1 Score:\", f1_score(y_train, y_train_pred))\n",
    "print(\"Train Precision Score:\", precision_score(y_train, y_train_pred))\n",
    "print(\"Train Recall Score:\", recall_score(y_train, y_train_pred))\n",
    "print(\"Train ROC_AUC Score:\", roc_auc_score(y_train, y_train_prob))\n",
    "print()\n",
    "print(\"Test Accuracy Score:\", accuracy_score(y_test, y_test_pred))\n",
    "print(\"Test Confusion Matrix:\\n\", confusion_matrix(y_test, y_test_pred), '\\n')\n",
    "print(\"Test F1 Score:\", f1_score(y_test, y_test_pred))\n",
    "print(\"Test Precision Score:\", precision_score(y_test, y_test_pred))\n",
    "print(\"Test Recall Score:\", recall_score(y_test, y_test_pred))\n",
    "print(\"Test ROC_AUC Score:\", roc_auc_score(y_test, y_test_prob))"
   ]
  },
  {
   "cell_type": "code",
   "execution_count": 10,
   "metadata": {},
   "outputs": [
    {
     "data": {
      "image/png": "[encoded data removed]",
      "text/plain": [
       "<Figure size 576x360 with 1 Axes>"
      ]
     },
     "metadata": {
      "needs_background": "light"
     },
     "output_type": "display_data"
    }
   ],
   "source": [
    "from sklearn.metrics import precision_recall_curve\n",
    "\n",
    "plt.figure(figsize = (8, 5))\n",
    "prec, rec, thresh = precision_recall_curve(y_test, y_test_prob)\n",
    "plt.plot(thresh, prec[1:], marker = 'o', c = 'b', label = 'Precision')\n",
    "plt.plot(thresh, rec[1:], marker = 'x', c = 'g', label = 'Recall')\n",
    "plt.legend(loc = 'center left')\n",
    "plt.xlabel(\"Thresholds\")\n",
    "plt.ylabel('Precision and Recall')\n",
    "plt.title('Precision Recall Tradeoff')\n",
    "plt.show()"
   ]
  },
  {
   "cell_type": "code",
   "execution_count": 11,
   "metadata": {},
   "outputs": [
    {
     "name": "stdout",
     "output_type": "stream",
     "text": [
      "Best Threshold=0.120000, G-Mean=0.594\n"
     ]
    },
    {
     "data": {
      "image/png": "[encoded data removed]",
      "text/plain": [
       "<Figure size 576x360 with 1 Axes>"
      ]
     },
     "metadata": {
      "needs_background": "light"
     },
     "output_type": "display_data"
    }
   ],
   "source": [
    "from sklearn.metrics import roc_curve\n",
    "plt.figure(figsize = (8, 5))\n",
    "# calculate roc curves\n",
    "fpr, tpr, thresholds = roc_curve(y_test, y_test_prob)\n",
    "# calculate the g-mean for each threshold\n",
    "gmeans = np.sqrt(tpr * (1-fpr))\n",
    "# locate the index of the largest g-mean\n",
    "ix = np.argmax(gmeans)\n",
    "print('Best Threshold=%f, G-Mean=%.3f' % (thresholds[ix], gmeans[ix]))\n",
    "# plot the roc curve for the model\n",
    "plt.plot([0,1], [0,1], linestyle='--', label='No Skill')\n",
    "plt.plot(fpr, tpr, marker='.', label='LGBMClassifier')\n",
    "plt.scatter(fpr[ix], tpr[ix], marker='o', color='black', alpha = 1, edgecolors = 'k', s = 100,\n",
    "            label='Best Threshold: '+str(round(thresholds[ix], 3)))\n",
    "# axis labels\n",
    "plt.xlabel('False Positive Rate')\n",
    "plt.ylabel('True Positive Rate')\n",
    "plt.title(\"ROC Curve\")\n",
    "plt.legend(loc = 'best')\n",
    "# show the plot\n",
    "plt.show()"
   ]
  },
  {
   "cell_type": "markdown",
   "metadata": {},
   "source": [
    "### Regression logistique + SVM"
   ]
  },
  {
   "cell_type": "code",
   "execution_count": 12,
   "metadata": {},
   "outputs": [
    {
     "name": "stderr",
     "output_type": "stream",
     "text": [
      "C:\\ProgramData\\Anaconda3\\lib\\site-packages\\sklearn\\preprocessing\\_data.py:2995: RuntimeWarning: divide by zero encountered in log\n",
      "  loglike = -n_samples / 2 * np.log(x_trans.var())\n",
      "C:\\ProgramData\\Anaconda3\\lib\\site-packages\\sklearn\\preprocessing\\_data.py:2995: RuntimeWarning: divide by zero encountered in log\n",
      "  loglike = -n_samples / 2 * np.log(x_trans.var())\n"
     ]
    },
    {
     "data": {
      "text/html": [
       "<div>\n",
       "<style scoped>\n",
       "    .dataframe tbody tr th:only-of-type {\n",
       "        vertical-align: middle;\n",
       "    }\n",
       "\n",
       "    .dataframe tbody tr th {\n",
       "        vertical-align: top;\n",
       "    }\n",
       "\n",
       "    .dataframe thead th {\n",
       "        text-align: right;\n",
       "    }\n",
       "</style>\n",
       "<table border=\"1\" class=\"dataframe\">\n",
       "  <thead>\n",
       "    <tr style=\"text-align: right;\">\n",
       "      <th></th>\n",
       "      <th>Model</th>\n",
       "      <th>Precision</th>\n",
       "      <th>Recall</th>\n",
       "      <th>F1</th>\n",
       "      <th>Accuracy</th>\n",
       "      <th>ROC_AUC</th>\n",
       "      <th>Training_Time</th>\n",
       "      <th>Prediction_Time</th>\n",
       "    </tr>\n",
       "  </thead>\n",
       "  <tbody>\n",
       "    <tr>\n",
       "      <td>0</td>\n",
       "      <td>LR</td>\n",
       "      <td>0.400000</td>\n",
       "      <td>0.004843</td>\n",
       "      <td>0.009569</td>\n",
       "      <td>0.891081</td>\n",
       "      <td>0.632865</td>\n",
       "      <td>4.749153</td>\n",
       "      <td>0.061964</td>\n",
       "    </tr>\n",
       "    <tr>\n",
       "      <td>1</td>\n",
       "      <td>DT</td>\n",
       "      <td>0.150491</td>\n",
       "      <td>0.167070</td>\n",
       "      <td>0.158348</td>\n",
       "      <td>0.807024</td>\n",
       "      <td>0.526053</td>\n",
       "      <td>0.485697</td>\n",
       "      <td>0.012995</td>\n",
       "    </tr>\n",
       "    <tr>\n",
       "      <td>2</td>\n",
       "      <td>RF</td>\n",
       "      <td>0.700000</td>\n",
       "      <td>0.016949</td>\n",
       "      <td>0.033097</td>\n",
       "      <td>0.892397</td>\n",
       "      <td>0.631678</td>\n",
       "      <td>1.874840</td>\n",
       "      <td>0.111933</td>\n",
       "    </tr>\n",
       "    <tr>\n",
       "      <td>3</td>\n",
       "      <td>SVC</td>\n",
       "      <td>0.600000</td>\n",
       "      <td>0.007264</td>\n",
       "      <td>0.014354</td>\n",
       "      <td>0.891607</td>\n",
       "      <td>0.567139</td>\n",
       "      <td>390.847938</td>\n",
       "      <td>9.523127</td>\n",
       "    </tr>\n",
       "  </tbody>\n",
       "</table>\n",
       "</div>"
      ],
      "text/plain": [
       "  Model  Precision    Recall        F1  Accuracy   ROC_AUC  Training_Time  \\\n",
       "0    LR   0.400000  0.004843  0.009569  0.891081  0.632865       4.749153   \n",
       "1    DT   0.150491  0.167070  0.158348  0.807024  0.526053       0.485697   \n",
       "2    RF   0.700000  0.016949  0.033097  0.892397  0.631678       1.874840   \n",
       "3   SVC   0.600000  0.007264  0.014354  0.891607  0.567139     390.847938   \n",
       "\n",
       "   Prediction_Time  \n",
       "0         0.061964  \n",
       "1         0.012995  \n",
       "2         0.111933  \n",
       "3         9.523127  "
      ]
     },
     "execution_count": 12,
     "metadata": {},
     "output_type": "execute_result"
    }
   ],
   "source": [
    "models = []\n",
    "\n",
    "models.append(('LR', Pipeline([(\"Transformer\", PowerTransformer()),\n",
    "                               (\"Scaler\", StandardScaler()),\n",
    "                              (\"LogReg\", LogisticRegression(random_state = 0, solver = 'liblinear'))])))\n",
    "models.append(('DT', DecisionTreeClassifier(random_state = 0)))\n",
    "models.append(('RF', RandomForestClassifier(random_state = 0, n_jobs = -1)))\n",
    "models.append(('SVC', Pipeline([(\"Transformer\", PowerTransformer()),\n",
    "                                (\"Scaler\", StandardScaler()),\n",
    "                                (\"SVC\", SVC(random_state = 0, probability=True))])))\n",
    "\n",
    "\n",
    "\n",
    "## Validation Set Scores\n",
    "precision = []\n",
    "recall = []\n",
    "names = []\n",
    "f1 = []\n",
    "accuracy = []\n",
    "roc_auc = []\n",
    "Training_Time=[]\n",
    "Prediction_Time=[]\n",
    "\n",
    "for name, model in models:\n",
    "    start_time = time.time()    \n",
    "    model.fit(X_train, y_train)\n",
    "    end_time = time.time()\n",
    "    Training_Time.append(end_time - start_time)\n",
    "    \n",
    "    start_time = time.time()\n",
    "    y_pred = model.predict(X_test)\n",
    "    end_time = time.time()\n",
    "    Prediction_Time.append(end_time-start_time)\n",
    "    \n",
    "    y_proba = model.predict_proba(X_test)[:, 1]\n",
    "    precision.append(precision_score(y_test, y_pred))\n",
    "    recall.append(recall_score(y_test, y_pred))\n",
    "    f1.append(f1_score(y_test, y_pred))\n",
    "    accuracy.append(accuracy_score(y_test, y_pred))\n",
    "    roc_auc.append(roc_auc_score(y_test, y_proba))\n",
    "    names.append(name)\n",
    "models_df = pd.DataFrame({'Model' : names, 'Precision' : precision, 'Recall' : recall,\n",
    "                          'F1' : f1, 'Accuracy' : accuracy, 'ROC_AUC' : roc_auc,\n",
    "                          'Training_Time':Training_Time,'Prediction_Time':Prediction_Time})\n",
    "models_df"
   ]
  },
  {
   "cell_type": "markdown",
   "metadata": {},
   "source": [
    "Les résultats peuvent être amélioré"
   ]
  },
  {
   "cell_type": "code",
   "execution_count": null,
   "metadata": {},
   "outputs": [],
   "source": []
  }
 ],
 "metadata": {
  "kernelspec": {
   "display_name": "Python 3",
   "language": "python",
   "name": "python3"
  },
  "language_info": {
   "codemirror_mode": {
    "name": "ipython",
    "version": 3
   },
   "file_extension": ".py",
   "mimetype": "text/x-python",
   "name": "python",
   "nbconvert_exporter": "python",
   "pygments_lexer": "ipython3",
   "version": "3.7.4"
  }
 },
 "nbformat": 4,
 "nbformat_minor": 2
}
